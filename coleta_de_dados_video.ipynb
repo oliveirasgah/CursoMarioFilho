{
 "cells": [
  {
   "cell_type": "code",
   "execution_count": 1,
   "metadata": {},
   "outputs": [],
   "source": [
    "import pandas as pd\n",
    "import numpy as np\n",
    "import re\n",
    "import time\n",
    "import os\n",
    "import shutil\n",
    "\n",
    "from selenium import webdriver\n",
    "\n",
    "from tqdm.notebook import tqdm\n",
    "\n",
    "import json\n",
    "from datetime import datetime"
   ]
  },
  {
   "source": [
    "# Get parsed videos"
   ],
   "cell_type": "markdown",
   "metadata": {}
  },
  {
   "cell_type": "code",
   "execution_count": 2,
   "metadata": {},
   "outputs": [
    {
     "output_type": "execute_result",
     "data": {
      "text/plain": [
       "                                          link  \\\n",
       "0  https://www.youtube.com/watch?v=0CFl1ZRc5TI   \n",
       "1  https://www.youtube.com/watch?v=OCHbm88xUGU   \n",
       "2  https://www.youtube.com/watch?v=9_V7a_8-5k0   \n",
       "3  https://www.youtube.com/watch?v=M8ueP_I6jeo   \n",
       "4  https://www.youtube.com/watch?v=1ApEHKYR9Rg   \n",
       "\n",
       "                                               title             query  \n",
       "0                        Deep Learning - Lecture 1.2  machine+learning  \n",
       "1                        Deep Learning - Lecture 1.1  machine+learning  \n",
       "2  Bobby Samuel on Machine Learning and AI in Hea...  machine+learning  \n",
       "3  🤖 O que é Machine Learning? Quais impactos da ...  machine+learning  \n",
       "4        Practical Machine Learning Lecture 2 - 2020  machine+learning  "
      ],
      "text/html": "<div>\n<style scoped>\n    .dataframe tbody tr th:only-of-type {\n        vertical-align: middle;\n    }\n\n    .dataframe tbody tr th {\n        vertical-align: top;\n    }\n\n    .dataframe thead th {\n        text-align: right;\n    }\n</style>\n<table border=\"1\" class=\"dataframe\">\n  <thead>\n    <tr style=\"text-align: right;\">\n      <th></th>\n      <th>link</th>\n      <th>title</th>\n      <th>query</th>\n    </tr>\n  </thead>\n  <tbody>\n    <tr>\n      <th>0</th>\n      <td>https://www.youtube.com/watch?v=0CFl1ZRc5TI</td>\n      <td>Deep Learning - Lecture 1.2</td>\n      <td>machine+learning</td>\n    </tr>\n    <tr>\n      <th>1</th>\n      <td>https://www.youtube.com/watch?v=OCHbm88xUGU</td>\n      <td>Deep Learning - Lecture 1.1</td>\n      <td>machine+learning</td>\n    </tr>\n    <tr>\n      <th>2</th>\n      <td>https://www.youtube.com/watch?v=9_V7a_8-5k0</td>\n      <td>Bobby Samuel on Machine Learning and AI in Hea...</td>\n      <td>machine+learning</td>\n    </tr>\n    <tr>\n      <th>3</th>\n      <td>https://www.youtube.com/watch?v=M8ueP_I6jeo</td>\n      <td>🤖 O que é Machine Learning? Quais impactos da ...</td>\n      <td>machine+learning</td>\n    </tr>\n    <tr>\n      <th>4</th>\n      <td>https://www.youtube.com/watch?v=1ApEHKYR9Rg</td>\n      <td>Practical Machine Learning Lecture 2 - 2020</td>\n      <td>machine+learning</td>\n    </tr>\n  </tbody>\n</table>\n</div>"
     },
     "metadata": {},
     "execution_count": 2
    }
   ],
   "source": [
    "df = pd.read_json('dados_brutos/parsed_videos_2020_10_15_20_24_29.json', lines=True)\n",
    "df.head()"
   ]
  },
  {
   "source": [
    "# Create a column to hold only the video code"
   ],
   "cell_type": "markdown",
   "metadata": {}
  },
  {
   "cell_type": "code",
   "execution_count": 3,
   "metadata": {},
   "outputs": [
    {
     "output_type": "execute_result",
     "data": {
      "text/plain": [
       "                                             link           code\n",
       "0     https://www.youtube.com/watch?v=0CFl1ZRc5TI  v=0CFl1ZRc5TI\n",
       "1     https://www.youtube.com/watch?v=OCHbm88xUGU  v=OCHbm88xUGU\n",
       "2     https://www.youtube.com/watch?v=9_V7a_8-5k0  v=9_V7a_8-5k0\n",
       "3     https://www.youtube.com/watch?v=M8ueP_I6jeo  v=M8ueP_I6jeo\n",
       "4     https://www.youtube.com/watch?v=1ApEHKYR9Rg  v=1ApEHKYR9Rg\n",
       "...                                           ...            ...\n",
       "2825  https://www.youtube.com/watch?v=EKs4dvnftPA  v=EKs4dvnftPA\n",
       "2826  https://www.youtube.com/watch?v=TQrJthPRkXc  v=TQrJthPRkXc\n",
       "2827  https://www.youtube.com/watch?v=D0nvEqeQ5as  v=D0nvEqeQ5as\n",
       "2828  https://www.youtube.com/watch?v=vvVJU_ONNd0  v=vvVJU_ONNd0\n",
       "2829  https://www.youtube.com/watch?v=eeje8DqN0bQ  v=eeje8DqN0bQ\n",
       "\n",
       "[2830 rows x 2 columns]"
      ],
      "text/html": "<div>\n<style scoped>\n    .dataframe tbody tr th:only-of-type {\n        vertical-align: middle;\n    }\n\n    .dataframe tbody tr th {\n        vertical-align: top;\n    }\n\n    .dataframe thead th {\n        text-align: right;\n    }\n</style>\n<table border=\"1\" class=\"dataframe\">\n  <thead>\n    <tr style=\"text-align: right;\">\n      <th></th>\n      <th>link</th>\n      <th>code</th>\n    </tr>\n  </thead>\n  <tbody>\n    <tr>\n      <th>0</th>\n      <td>https://www.youtube.com/watch?v=0CFl1ZRc5TI</td>\n      <td>v=0CFl1ZRc5TI</td>\n    </tr>\n    <tr>\n      <th>1</th>\n      <td>https://www.youtube.com/watch?v=OCHbm88xUGU</td>\n      <td>v=OCHbm88xUGU</td>\n    </tr>\n    <tr>\n      <th>2</th>\n      <td>https://www.youtube.com/watch?v=9_V7a_8-5k0</td>\n      <td>v=9_V7a_8-5k0</td>\n    </tr>\n    <tr>\n      <th>3</th>\n      <td>https://www.youtube.com/watch?v=M8ueP_I6jeo</td>\n      <td>v=M8ueP_I6jeo</td>\n    </tr>\n    <tr>\n      <th>4</th>\n      <td>https://www.youtube.com/watch?v=1ApEHKYR9Rg</td>\n      <td>v=1ApEHKYR9Rg</td>\n    </tr>\n    <tr>\n      <th>...</th>\n      <td>...</td>\n      <td>...</td>\n    </tr>\n    <tr>\n      <th>2825</th>\n      <td>https://www.youtube.com/watch?v=EKs4dvnftPA</td>\n      <td>v=EKs4dvnftPA</td>\n    </tr>\n    <tr>\n      <th>2826</th>\n      <td>https://www.youtube.com/watch?v=TQrJthPRkXc</td>\n      <td>v=TQrJthPRkXc</td>\n    </tr>\n    <tr>\n      <th>2827</th>\n      <td>https://www.youtube.com/watch?v=D0nvEqeQ5as</td>\n      <td>v=D0nvEqeQ5as</td>\n    </tr>\n    <tr>\n      <th>2828</th>\n      <td>https://www.youtube.com/watch?v=vvVJU_ONNd0</td>\n      <td>v=vvVJU_ONNd0</td>\n    </tr>\n    <tr>\n      <th>2829</th>\n      <td>https://www.youtube.com/watch?v=eeje8DqN0bQ</td>\n      <td>v=eeje8DqN0bQ</td>\n    </tr>\n  </tbody>\n</table>\n<p>2830 rows × 2 columns</p>\n</div>"
     },
     "metadata": {},
     "execution_count": 3
    }
   ],
   "source": [
    "dummy = df.copy()\n",
    "dummy['code'] = df['link'].str.extract(r'(v=.*)')\n",
    "dummy[['link', 'code']]"
   ]
  },
  {
   "source": [
    "# Detecting and removing duplicates"
   ],
   "cell_type": "markdown",
   "metadata": {}
  },
  {
   "cell_type": "code",
   "execution_count": 78,
   "metadata": {},
   "outputs": [
    {
     "output_type": "stream",
     "name": "stdout",
     "text": [
      "Total of duplicated samples: 2106\nUnique duplicated samples: 119\nTotal of samples in data: 2830\nTotal after deleting duplicated samples: 843\n"
     ]
    }
   ],
   "source": [
    "dup = dummy.groupby(['code', 'query'], as_index=False).size().to_frame(name='count').reset_index()\n",
    "print('Total of duplicated samples:', dup[dup['count'] > 1]['count'].sum())\n",
    "print('Unique duplicated samples:', dup[dup['count'] > 1].shape[0])\n",
    "print('Total of samples in data:', dummy.shape[0])\n",
    "print('Total after deleting duplicated samples:', ((dummy.shape[0] - dup[dup['count'] > 1]['count'].sum()) + dup[dup['count'] > 1].shape[0]))"
   ]
  },
  {
   "cell_type": "code",
   "execution_count": 79,
   "metadata": {},
   "outputs": [
    {
     "output_type": "stream",
     "name": "stdout",
     "text": [
      "<class 'pandas.core.frame.DataFrame'>\nInt64Index: 843 entries, 0 to 2357\nData columns (total 3 columns):\n #   Column  Non-Null Count  Dtype \n---  ------  --------------  ----- \n 0   link    842 non-null    object\n 1   title   843 non-null    object\n 2   query   843 non-null    object\ndtypes: object(3)\nmemory usage: 26.3+ KB\n"
     ]
    }
   ],
   "source": [
    "df_uniques = df.drop_duplicates()\n",
    "df_uniques.info()"
   ]
  },
  {
   "source": [
    "# Remove link with null value"
   ],
   "cell_type": "markdown",
   "metadata": {}
  },
  {
   "cell_type": "code",
   "execution_count": 96,
   "metadata": {},
   "outputs": [
    {
     "output_type": "stream",
     "name": "stdout",
     "text": [
      "<class 'pandas.core.frame.DataFrame'>\nInt64Index: 842 entries, 0 to 2357\nData columns (total 3 columns):\n #   Column  Non-Null Count  Dtype \n---  ------  --------------  ----- \n 0   link    842 non-null    object\n 1   title   842 non-null    object\n 2   query   842 non-null    object\ndtypes: object(3)\nmemory usage: 26.3+ KB\n"
     ]
    }
   ],
   "source": [
    "df_clean = df_uniques[df_uniques['link'].notna()]\n",
    "df_clean.info()"
   ]
  },
  {
   "source": [
    "# Getting video information"
   ],
   "cell_type": "markdown",
   "metadata": {}
  },
  {
   "cell_type": "code",
   "execution_count": 99,
   "metadata": {
    "tags": []
   },
   "outputs": [
    {
     "output_type": "display_data",
     "data": {
      "text/plain": "HBox(children=(FloatProgress(value=1.0, bar_style='info', description='Getting video information', max=1.0, st…",
      "application/vnd.jupyter.widget-view+json": {
       "version_major": 2,
       "version_minor": 0,
       "model_id": "204d3dd5dfe947f0aab97284baadae46"
      }
     },
     "metadata": {}
    },
    {
     "output_type": "stream",
     "name": "stdout",
     "text": [
      "\n"
     ]
    },
    {
     "output_type": "error",
     "ename": "NoSuchElementException",
     "evalue": "Message: Unable to locate element: .view-count\n",
     "traceback": [
      "\u001b[0;31m---------------------------------------------------------------------------\u001b[0m",
      "\u001b[0;31mNoSuchElementException\u001b[0m                    Traceback (most recent call last)",
      "\u001b[0;32m<ipython-input-99-decfd95994ef>\u001b[0m in \u001b[0;36m<module>\u001b[0;34m\u001b[0m\n\u001b[1;32m      7\u001b[0m     \u001b[0mdriver\u001b[0m\u001b[0;34m.\u001b[0m\u001b[0mget\u001b[0m\u001b[0;34m(\u001b[0m\u001b[0mrow\u001b[0m\u001b[0;34m[\u001b[0m\u001b[0;34m'link'\u001b[0m\u001b[0;34m]\u001b[0m\u001b[0;34m)\u001b[0m\u001b[0;34m\u001b[0m\u001b[0;34m\u001b[0m\u001b[0m\n\u001b[1;32m      8\u001b[0m \u001b[0;34m\u001b[0m\u001b[0m\n\u001b[0;32m----> 9\u001b[0;31m     \u001b[0mprint\u001b[0m\u001b[0;34m(\u001b[0m\u001b[0;34m'Views:'\u001b[0m\u001b[0;34m,\u001b[0m \u001b[0mdriver\u001b[0m\u001b[0;34m.\u001b[0m\u001b[0mfind_element_by_class_name\u001b[0m\u001b[0;34m(\u001b[0m\u001b[0;34m'view-count'\u001b[0m\u001b[0;34m)\u001b[0m\u001b[0;34m)\u001b[0m\u001b[0;34m\u001b[0m\u001b[0;34m\u001b[0m\u001b[0m\n\u001b[0m\u001b[1;32m     10\u001b[0m \u001b[0;34m\u001b[0m\u001b[0m\n\u001b[1;32m     11\u001b[0m     \u001b[0mdriver\u001b[0m\u001b[0;34m.\u001b[0m\u001b[0mquit\u001b[0m\u001b[0;34m(\u001b[0m\u001b[0;34m)\u001b[0m\u001b[0;34m\u001b[0m\u001b[0;34m\u001b[0m\u001b[0m\n",
      "\u001b[0;32m~/.anaconda3/lib/python3.8/site-packages/selenium/webdriver/remote/webdriver.py\u001b[0m in \u001b[0;36mfind_element_by_class_name\u001b[0;34m(self, name)\u001b[0m\n\u001b[1;32m    562\u001b[0m             \u001b[0melement\u001b[0m \u001b[0;34m=\u001b[0m \u001b[0mdriver\u001b[0m\u001b[0;34m.\u001b[0m\u001b[0mfind_element_by_class_name\u001b[0m\u001b[0;34m(\u001b[0m\u001b[0;34m'foo'\u001b[0m\u001b[0;34m)\u001b[0m\u001b[0;34m\u001b[0m\u001b[0;34m\u001b[0m\u001b[0m\n\u001b[1;32m    563\u001b[0m         \"\"\"\n\u001b[0;32m--> 564\u001b[0;31m         \u001b[0;32mreturn\u001b[0m \u001b[0mself\u001b[0m\u001b[0;34m.\u001b[0m\u001b[0mfind_element\u001b[0m\u001b[0;34m(\u001b[0m\u001b[0mby\u001b[0m\u001b[0;34m=\u001b[0m\u001b[0mBy\u001b[0m\u001b[0;34m.\u001b[0m\u001b[0mCLASS_NAME\u001b[0m\u001b[0;34m,\u001b[0m \u001b[0mvalue\u001b[0m\u001b[0;34m=\u001b[0m\u001b[0mname\u001b[0m\u001b[0;34m)\u001b[0m\u001b[0;34m\u001b[0m\u001b[0;34m\u001b[0m\u001b[0m\n\u001b[0m\u001b[1;32m    565\u001b[0m \u001b[0;34m\u001b[0m\u001b[0m\n\u001b[1;32m    566\u001b[0m     \u001b[0;32mdef\u001b[0m \u001b[0mfind_elements_by_class_name\u001b[0m\u001b[0;34m(\u001b[0m\u001b[0mself\u001b[0m\u001b[0;34m,\u001b[0m \u001b[0mname\u001b[0m\u001b[0;34m)\u001b[0m\u001b[0;34m:\u001b[0m\u001b[0;34m\u001b[0m\u001b[0;34m\u001b[0m\u001b[0m\n",
      "\u001b[0;32m~/.anaconda3/lib/python3.8/site-packages/selenium/webdriver/remote/webdriver.py\u001b[0m in \u001b[0;36mfind_element\u001b[0;34m(self, by, value)\u001b[0m\n\u001b[1;32m    974\u001b[0m                 \u001b[0mby\u001b[0m \u001b[0;34m=\u001b[0m \u001b[0mBy\u001b[0m\u001b[0;34m.\u001b[0m\u001b[0mCSS_SELECTOR\u001b[0m\u001b[0;34m\u001b[0m\u001b[0;34m\u001b[0m\u001b[0m\n\u001b[1;32m    975\u001b[0m                 \u001b[0mvalue\u001b[0m \u001b[0;34m=\u001b[0m \u001b[0;34m'[name=\"%s\"]'\u001b[0m \u001b[0;34m%\u001b[0m \u001b[0mvalue\u001b[0m\u001b[0;34m\u001b[0m\u001b[0;34m\u001b[0m\u001b[0m\n\u001b[0;32m--> 976\u001b[0;31m         return self.execute(Command.FIND_ELEMENT, {\n\u001b[0m\u001b[1;32m    977\u001b[0m             \u001b[0;34m'using'\u001b[0m\u001b[0;34m:\u001b[0m \u001b[0mby\u001b[0m\u001b[0;34m,\u001b[0m\u001b[0;34m\u001b[0m\u001b[0;34m\u001b[0m\u001b[0m\n\u001b[1;32m    978\u001b[0m             'value': value})['value']\n",
      "\u001b[0;32m~/.anaconda3/lib/python3.8/site-packages/selenium/webdriver/remote/webdriver.py\u001b[0m in \u001b[0;36mexecute\u001b[0;34m(self, driver_command, params)\u001b[0m\n\u001b[1;32m    319\u001b[0m         \u001b[0mresponse\u001b[0m \u001b[0;34m=\u001b[0m \u001b[0mself\u001b[0m\u001b[0;34m.\u001b[0m\u001b[0mcommand_executor\u001b[0m\u001b[0;34m.\u001b[0m\u001b[0mexecute\u001b[0m\u001b[0;34m(\u001b[0m\u001b[0mdriver_command\u001b[0m\u001b[0;34m,\u001b[0m \u001b[0mparams\u001b[0m\u001b[0;34m)\u001b[0m\u001b[0;34m\u001b[0m\u001b[0;34m\u001b[0m\u001b[0m\n\u001b[1;32m    320\u001b[0m         \u001b[0;32mif\u001b[0m \u001b[0mresponse\u001b[0m\u001b[0;34m:\u001b[0m\u001b[0;34m\u001b[0m\u001b[0;34m\u001b[0m\u001b[0m\n\u001b[0;32m--> 321\u001b[0;31m             \u001b[0mself\u001b[0m\u001b[0;34m.\u001b[0m\u001b[0merror_handler\u001b[0m\u001b[0;34m.\u001b[0m\u001b[0mcheck_response\u001b[0m\u001b[0;34m(\u001b[0m\u001b[0mresponse\u001b[0m\u001b[0;34m)\u001b[0m\u001b[0;34m\u001b[0m\u001b[0;34m\u001b[0m\u001b[0m\n\u001b[0m\u001b[1;32m    322\u001b[0m             response['value'] = self._unwrap_value(\n\u001b[1;32m    323\u001b[0m                 response.get('value', None))\n",
      "\u001b[0;32m~/.anaconda3/lib/python3.8/site-packages/selenium/webdriver/remote/errorhandler.py\u001b[0m in \u001b[0;36mcheck_response\u001b[0;34m(self, response)\u001b[0m\n\u001b[1;32m    240\u001b[0m                 \u001b[0malert_text\u001b[0m \u001b[0;34m=\u001b[0m \u001b[0mvalue\u001b[0m\u001b[0;34m[\u001b[0m\u001b[0;34m'alert'\u001b[0m\u001b[0;34m]\u001b[0m\u001b[0;34m.\u001b[0m\u001b[0mget\u001b[0m\u001b[0;34m(\u001b[0m\u001b[0;34m'text'\u001b[0m\u001b[0;34m)\u001b[0m\u001b[0;34m\u001b[0m\u001b[0;34m\u001b[0m\u001b[0m\n\u001b[1;32m    241\u001b[0m             \u001b[0;32mraise\u001b[0m \u001b[0mexception_class\u001b[0m\u001b[0;34m(\u001b[0m\u001b[0mmessage\u001b[0m\u001b[0;34m,\u001b[0m \u001b[0mscreen\u001b[0m\u001b[0;34m,\u001b[0m \u001b[0mstacktrace\u001b[0m\u001b[0;34m,\u001b[0m \u001b[0malert_text\u001b[0m\u001b[0;34m)\u001b[0m\u001b[0;34m\u001b[0m\u001b[0;34m\u001b[0m\u001b[0m\n\u001b[0;32m--> 242\u001b[0;31m         \u001b[0;32mraise\u001b[0m \u001b[0mexception_class\u001b[0m\u001b[0;34m(\u001b[0m\u001b[0mmessage\u001b[0m\u001b[0;34m,\u001b[0m \u001b[0mscreen\u001b[0m\u001b[0;34m,\u001b[0m \u001b[0mstacktrace\u001b[0m\u001b[0;34m)\u001b[0m\u001b[0;34m\u001b[0m\u001b[0;34m\u001b[0m\u001b[0m\n\u001b[0m\u001b[1;32m    243\u001b[0m \u001b[0;34m\u001b[0m\u001b[0m\n\u001b[1;32m    244\u001b[0m     \u001b[0;32mdef\u001b[0m \u001b[0m_value_or_default\u001b[0m\u001b[0;34m(\u001b[0m\u001b[0mself\u001b[0m\u001b[0;34m,\u001b[0m \u001b[0mobj\u001b[0m\u001b[0;34m,\u001b[0m \u001b[0mkey\u001b[0m\u001b[0;34m,\u001b[0m \u001b[0mdefault\u001b[0m\u001b[0;34m)\u001b[0m\u001b[0;34m:\u001b[0m\u001b[0;34m\u001b[0m\u001b[0;34m\u001b[0m\u001b[0m\n",
      "\u001b[0;31mNoSuchElementException\u001b[0m: Message: Unable to locate element: .view-count\n"
     ]
    }
   ],
   "source": [
    "curr_date = datetime.now().strftime('%Y_%m_%d_%H_%M_%S')\n",
    "\n",
    "# Iterate by row in data frame\n",
    "for index, row in tqdm(df_uniques.iterrows(), desc='Getting video information'):\n",
    "    driver = webdriver.Firefox()\n",
    "\n",
    "    driver.get(row['link'])\n",
    "\n",
    "    print('Views:', driver.find_element_by_class_name('view-count'))\n",
    "    \n",
    "    driver.quit()\n",
    "    '''for page in tqdm(range(1, 101), desc=description):\n",
    "        urll = url.format(query=query, page=page)\n",
    "        \n",
    "        driver = webdriver.Firefox()\n",
    "        \n",
    "        driver.get(urll)\n",
    "        \n",
    "        # Get all video links\n",
    "        links = driver.find_elements_by_id('video-title')\n",
    "        \n",
    "        for link in links:\n",
    "            video_link = link.get_attribute('href')\n",
    "            title = link.get_attribute('title')\n",
    "                    \n",
    "            with open(f'dados_brutos/parsed_videos_{curr_date}.json', 'a+') as output:\n",
    "                data = {'link': video_link, 'title': title, 'query': query}\n",
    "                output.write('{}\\n'.format(json.dumps(data)))\n",
    "        \n",
    "        driver.quit()'''"
   ]
  }
 ],
 "metadata": {
  "kernelspec": {
   "display_name": "Python 3",
   "language": "python",
   "name": "python3"
  },
  "language_info": {
   "codemirror_mode": {
    "name": "ipython",
    "version": 3
   },
   "file_extension": ".py",
   "mimetype": "text/x-python",
   "name": "python",
   "nbconvert_exporter": "python",
   "pygments_lexer": "ipython3",
   "version": "3.8.3-final"
  }
 },
 "nbformat": 4,
 "nbformat_minor": 4
}