{
 "cells": [
  {
   "cell_type": "code",
   "execution_count": 1,
   "id": "little-microphone",
   "metadata": {},
   "outputs": [],
   "source": [
    "import pandas as pd\n",
    "import numpy as np\n",
    "\n",
    "pd.set_option('max.columns', 131)"
   ]
  },
  {
   "cell_type": "code",
   "execution_count": 2,
   "id": "valuable-candy",
   "metadata": {},
   "outputs": [],
   "source": [
    "df = pd.read_csv('full_labels.csv').dropna(subset=['y'])"
   ]
  },
  {
   "cell_type": "code",
   "execution_count": 3,
   "id": "damaged-wilderness",
   "metadata": {},
   "outputs": [
    {
     "data": {
      "text/plain": [
       "0.0"
      ]
     },
     "execution_count": 3,
     "metadata": {},
     "output_type": "execute_result"
    }
   ],
   "source": [
    "df.duplicated().mean()"
   ]
  },
  {
   "cell_type": "code",
   "execution_count": 4,
   "id": "isolated-kitchen",
   "metadata": {},
   "outputs": [
    {
     "data": {
      "text/plain": [
       "(297, 4)"
      ]
     },
     "execution_count": 4,
     "metadata": {},
     "output_type": "execute_result"
    }
   ],
   "source": [
    "df.shape"
   ]
  },
  {
   "cell_type": "code",
   "execution_count": 5,
   "id": "utility-modern",
   "metadata": {},
   "outputs": [],
   "source": [
    "from sklearn.linear_model import LogisticRegression\n",
    "from sklearn.ensemble import RandomForestClassifier"
   ]
  },
  {
   "cell_type": "code",
   "execution_count": 6,
   "id": "opposite-drinking",
   "metadata": {},
   "outputs": [
    {
     "name": "stdout",
     "output_type": "stream",
     "text": [
      "<class 'pandas.core.frame.DataFrame'>\n",
      "Int64Index: 297 entries, 151 to 34\n",
      "Data columns (total 4 columns):\n",
      " #   Column       Non-Null Count  Dtype         \n",
      "---  ------       --------------  -----         \n",
      " 0   title        297 non-null    object        \n",
      " 1   upload_date  297 non-null    datetime64[ns]\n",
      " 2   view_count   297 non-null    int64         \n",
      " 3   y            297 non-null    int64         \n",
      "dtypes: datetime64[ns](1), int64(2), object(1)\n",
      "memory usage: 11.6+ KB\n"
     ]
    }
   ],
   "source": [
    "df['upload_date'] = pd.to_datetime(df['upload_date'], format='%Y-%m-%d')\n",
    "df['view_count'] = df['view_count'].astype(int)\n",
    "df = df.sort_values('upload_date')\n",
    "df_limpo = df.copy()\n",
    "df_limpo.info()"
   ]
  },
  {
   "cell_type": "code",
   "execution_count": 7,
   "id": "cloudy-spread",
   "metadata": {},
   "outputs": [],
   "source": [
    "features = pd.DataFrame(index=df_limpo.index)\n",
    "y = df['y'].copy()"
   ]
  },
  {
   "cell_type": "code",
   "execution_count": 8,
   "id": "emotional-weapon",
   "metadata": {},
   "outputs": [],
   "source": [
    "features['tempo_desde_pub'] = (pd.to_datetime('2021-01-31') - df_limpo['upload_date']) / np.timedelta64(1, 'D')\n",
    "features['views'] = df_limpo['view_count']\n",
    "features['views_por_dia'] = features['views'] / features['tempo_desde_pub']\n",
    "features = features.drop(['tempo_desde_pub'], axis=1)"
   ]
  },
  {
   "cell_type": "code",
   "execution_count": 9,
   "id": "efficient-interval",
   "metadata": {},
   "outputs": [
    {
     "data": {
      "text/plain": [
       "((140, 2), (157, 2), (140,), (157,))"
      ]
     },
     "execution_count": 9,
     "metadata": {},
     "output_type": "execute_result"
    }
   ],
   "source": [
    "Xtrain, Xval = features.iloc[:140], features.iloc[140:]\n",
    "ytrain, yval = y.iloc[:140], y.iloc[140:]\n",
    "Xtrain.shape, Xval.shape, ytrain.shape, yval.shape"
   ]
  },
  {
   "cell_type": "code",
   "execution_count": 10,
   "id": "attended-coating",
   "metadata": {},
   "outputs": [],
   "source": [
    "from sklearn.feature_extraction.text import TfidfVectorizer\n",
    "\n",
    "title_train = df_limpo.iloc[:140]['title']\n",
    "title_val = df_limpo.iloc[140:]['title']\n",
    "\n",
    "title_vec = TfidfVectorizer(min_df=1, ngram_range=(1, 3))\n",
    "title_bow_train = title_vec.fit_transform(title_train)\n",
    "title_bow_val = title_vec.transform(title_val)"
   ]
  },
  {
   "cell_type": "code",
   "execution_count": 11,
   "id": "injured-assessment",
   "metadata": {},
   "outputs": [
    {
     "data": {
      "text/plain": [
       "(140, 2183)"
      ]
     },
     "execution_count": 11,
     "metadata": {},
     "output_type": "execute_result"
    }
   ],
   "source": [
    "title_bow_train.shape"
   ]
  },
  {
   "cell_type": "code",
   "execution_count": 12,
   "id": "outside-captain",
   "metadata": {},
   "outputs": [],
   "source": [
    "from scipy.sparse import hstack\n",
    "\n",
    "Xtrain_wtitle = hstack([Xtrain, title_bow_train])\n",
    "Xval_wtitle = hstack([Xval, title_bow_val])"
   ]
  },
  {
   "cell_type": "code",
   "execution_count": 13,
   "id": "covered-shock",
   "metadata": {},
   "outputs": [
    {
     "data": {
      "text/plain": [
       "((140, 2185), (157, 2185))"
      ]
     },
     "execution_count": 13,
     "metadata": {},
     "output_type": "execute_result"
    }
   ],
   "source": [
    "Xtrain_wtitle.shape, Xval_wtitle.shape"
   ]
  },
  {
   "cell_type": "markdown",
   "id": "hidden-lawyer",
   "metadata": {},
   "source": [
    "# Random Forest"
   ]
  },
  {
   "cell_type": "code",
   "execution_count": 14,
   "id": "micro-belief",
   "metadata": {},
   "outputs": [
    {
     "data": {
      "text/plain": [
       "RandomForestClassifier(class_weight='balanced', n_estimators=1000, n_jobs=3,\n",
       "                       random_state=0)"
      ]
     },
     "execution_count": 14,
     "metadata": {},
     "output_type": "execute_result"
    }
   ],
   "source": [
    "mdl = RandomForestClassifier(n_estimators=1000, random_state=0, min_samples_leaf=1, class_weight='balanced', n_jobs=3)\n",
    "mdl.fit(Xtrain_wtitle, ytrain)"
   ]
  },
  {
   "cell_type": "code",
   "execution_count": 15,
   "id": "graphic-translation",
   "metadata": {},
   "outputs": [],
   "source": [
    "p = mdl.predict_proba(Xval_wtitle)[:, 1]"
   ]
  },
  {
   "cell_type": "code",
   "execution_count": 16,
   "id": "hydraulic-organizer",
   "metadata": {},
   "outputs": [],
   "source": [
    "from sklearn.metrics import roc_auc_score, average_precision_score"
   ]
  },
  {
   "cell_type": "code",
   "execution_count": 17,
   "id": "controlled-affairs",
   "metadata": {},
   "outputs": [
    {
     "name": "stdout",
     "output_type": "stream",
     "text": [
      "avg=0.4452215654214563, auc=0.5782456140350878\n"
     ]
    }
   ],
   "source": [
    "print(f'avg={average_precision_score(yval, p)}, auc={roc_auc_score(yval, p)}')"
   ]
  },
  {
   "cell_type": "raw",
   "id": "improving-wallace",
   "metadata": {},
   "source": [
    "avg=0.4466115061424714, auc=0.5778947368421052 - min_df=1, ngram=(1, 2)\n",
    "avg=0.4452215654214563, auc=0.5782456140350878 - min_df=1, ngram=(1, 3)\n",
    "avg=0.43313253769957094, auc=0.5472807017543859 - min_df=2, ngram=(1, 3)\n",
    "avg=0.43329594836972185, auc=0.5418421052631579 - min_df=2, ngram=(1, 4)"
   ]
  },
  {
   "cell_type": "markdown",
   "id": "relevant-therapy",
   "metadata": {},
   "source": [
    "# LightGBM"
   ]
  },
  {
   "cell_type": "code",
   "execution_count": 18,
   "id": "exceptional-publication",
   "metadata": {},
   "outputs": [],
   "source": [
    "from lightgbm import LGBMClassifier"
   ]
  },
  {
   "cell_type": "code",
   "execution_count": 19,
   "id": "recorded-circus",
   "metadata": {},
   "outputs": [
    {
     "data": {
      "text/plain": [
       "LGBMClassifier(class_weight='balanced', n_jobs=3, random_state=0)"
      ]
     },
     "execution_count": 19,
     "metadata": {},
     "output_type": "execute_result"
    }
   ],
   "source": [
    "mdl = LGBMClassifier(random_state=0, class_weight='balanced', n_jobs=3)\n",
    "mdl.fit(Xtrain_wtitle, ytrain)"
   ]
  },
  {
   "cell_type": "code",
   "execution_count": 20,
   "id": "polyphonic-people",
   "metadata": {},
   "outputs": [
    {
     "name": "stderr",
     "output_type": "stream",
     "text": [
      "/home/gabriel/.anaconda3/lib/python3.8/site-packages/lightgbm/basic.py:597: UserWarning: Converting data to scipy sparse matrix.\n",
      "  warnings.warn('Converting data to scipy sparse matrix.')\n"
     ]
    }
   ],
   "source": [
    "p = mdl.predict_proba(Xval_wtitle)[:, 1]"
   ]
  },
  {
   "cell_type": "code",
   "execution_count": 21,
   "id": "optimum-mauritius",
   "metadata": {},
   "outputs": [
    {
     "name": "stdout",
     "output_type": "stream",
     "text": [
      "avg=0.40335269182299466, auc=0.5562280701754385\n"
     ]
    }
   ],
   "source": [
    "print(f'avg={average_precision_score(yval, p)}, auc={roc_auc_score(yval, p)}')"
   ]
  },
  {
   "cell_type": "markdown",
   "id": "treated-induction",
   "metadata": {},
   "source": [
    "# Bayesian Optimization"
   ]
  },
  {
   "cell_type": "code",
   "execution_count": 22,
   "id": "marine-hawaiian",
   "metadata": {},
   "outputs": [],
   "source": [
    "from skopt import forest_minimize"
   ]
  },
  {
   "cell_type": "code",
   "execution_count": 23,
   "id": "lightweight-thumbnail",
   "metadata": {},
   "outputs": [
    {
     "name": "stdout",
     "output_type": "stream",
     "text": [
      "Iteration No: 1 started. Evaluating function at random point.\n",
      "[0.009944912110647982, 5, 1, 0.4677107511929402, 0.49263223036174764, 272, 3, 1]\n",
      "[LightGBM] [Warning] bagging_freq is set=1, subsample_freq=0 will be ignored. Current value: bagging_freq=1\n"
     ]
    },
    {
     "name": "stderr",
     "output_type": "stream",
     "text": [
      "/home/gabriel/.anaconda3/lib/python3.8/site-packages/lightgbm/basic.py:597: UserWarning: Converting data to scipy sparse matrix.\n",
      "  warnings.warn('Converting data to scipy sparse matrix.')\n"
     ]
    },
    {
     "name": "stdout",
     "output_type": "stream",
     "text": [
      "0.5378070175438597\n",
      "Iteration No: 1 ended. Evaluation done at random point.\n",
      "Time taken: 0.5296\n",
      "Function value obtained: -0.4142\n",
      "Current minimum: -0.4142\n",
      "Iteration No: 2 started. Evaluating function at random point.\n",
      "[0.053887464791860025, 1, 15, 0.7437489153990157, 0.8675167974293533, 549, 3, 4]\n",
      "[LightGBM] [Warning] bagging_freq is set=1, subsample_freq=0 will be ignored. Current value: bagging_freq=1\n"
     ]
    },
    {
     "name": "stderr",
     "output_type": "stream",
     "text": [
      "/home/gabriel/.anaconda3/lib/python3.8/site-packages/lightgbm/basic.py:597: UserWarning: Converting data to scipy sparse matrix.\n",
      "  warnings.warn('Converting data to scipy sparse matrix.')\n",
      "/home/gabriel/.anaconda3/lib/python3.8/site-packages/lightgbm/basic.py:597: UserWarning: Converting data to scipy sparse matrix.\n",
      "  warnings.warn('Converting data to scipy sparse matrix.')\n"
     ]
    },
    {
     "name": "stdout",
     "output_type": "stream",
     "text": [
      "0.5201754385964913\n",
      "Iteration No: 2 ended. Evaluation done at random point.\n",
      "Time taken: 0.4221\n",
      "Function value obtained: -0.3959\n",
      "Current minimum: -0.4142\n",
      "Iteration No: 3 started. Evaluating function at random point.\n",
      "[0.004151454520895999, 6, 20, 0.8682075103820793, 0.9491436163200662, 411, 4, 3]\n",
      "[LightGBM] [Warning] bagging_freq is set=1, subsample_freq=0 will be ignored. Current value: bagging_freq=1\n",
      "0.5514035087719299\n",
      "Iteration No: 3 ended. Evaluation done at random point.\n",
      "Time taken: 0.1958\n",
      "Function value obtained: -0.3934\n",
      "Current minimum: -0.4142\n",
      "Iteration No: 4 started. Evaluating function at random point.\n",
      "[0.0014099928811969545, 9, 9, 0.6502182010234373, 0.6866210554187129, 828, 5, 2]\n",
      "[LightGBM] [Warning] bagging_freq is set=1, subsample_freq=0 will be ignored. Current value: bagging_freq=1\n"
     ]
    },
    {
     "name": "stderr",
     "output_type": "stream",
     "text": [
      "/home/gabriel/.anaconda3/lib/python3.8/site-packages/lightgbm/basic.py:597: UserWarning: Converting data to scipy sparse matrix.\n",
      "  warnings.warn('Converting data to scipy sparse matrix.')\n"
     ]
    },
    {
     "name": "stdout",
     "output_type": "stream",
     "text": [
      "0.5420175438596491\n",
      "Iteration No: 4 ended. Evaluation done at random point.\n",
      "Time taken: 0.6624\n",
      "Function value obtained: -0.3976\n",
      "Current minimum: -0.4142\n",
      "Iteration No: 5 started. Evaluating function at random point.\n",
      "[0.08530558241838007, 8, 19, 0.2137736299768322, 0.1313765544201984, 961, 4, 1]\n",
      "[LightGBM] [Warning] bagging_freq is set=1, subsample_freq=0 will be ignored. Current value: bagging_freq=1\n"
     ]
    },
    {
     "name": "stderr",
     "output_type": "stream",
     "text": [
      "/home/gabriel/.anaconda3/lib/python3.8/site-packages/lightgbm/basic.py:597: UserWarning: Converting data to scipy sparse matrix.\n",
      "  warnings.warn('Converting data to scipy sparse matrix.')\n"
     ]
    },
    {
     "name": "stdout",
     "output_type": "stream",
     "text": [
      "0.5754385964912281\n",
      "Iteration No: 5 ended. Evaluation done at random point.\n",
      "Time taken: 0.2898\n",
      "Function value obtained: -0.4285\n",
      "Current minimum: -0.4285\n",
      "Iteration No: 6 started. Evaluating function at random point.\n",
      "[0.003567949451535685, 13, 19, 0.7232951768944309, 0.7298538828427115, 939, 4, 3]\n",
      "[LightGBM] [Warning] bagging_freq is set=1, subsample_freq=0 will be ignored. Current value: bagging_freq=1\n"
     ]
    },
    {
     "name": "stderr",
     "output_type": "stream",
     "text": [
      "/home/gabriel/.anaconda3/lib/python3.8/site-packages/lightgbm/basic.py:597: UserWarning: Converting data to scipy sparse matrix.\n",
      "  warnings.warn('Converting data to scipy sparse matrix.')\n"
     ]
    },
    {
     "name": "stdout",
     "output_type": "stream",
     "text": [
      "0.5512280701754386\n",
      "Iteration No: 6 ended. Evaluation done at random point.\n",
      "Time taken: 1.8822\n",
      "Function value obtained: -0.3923\n",
      "Current minimum: -0.4285\n",
      "Iteration No: 7 started. Evaluating function at random point.\n",
      "[0.014828577273549474, 7, 1, 0.18428087097824575, 0.3261556557915816, 274, 1, 2]\n",
      "[LightGBM] [Warning] bagging_freq is set=1, subsample_freq=0 will be ignored. Current value: bagging_freq=1\n"
     ]
    },
    {
     "name": "stderr",
     "output_type": "stream",
     "text": [
      "/home/gabriel/.anaconda3/lib/python3.8/site-packages/lightgbm/basic.py:597: UserWarning: Converting data to scipy sparse matrix.\n",
      "  warnings.warn('Converting data to scipy sparse matrix.')\n"
     ]
    },
    {
     "name": "stdout",
     "output_type": "stream",
     "text": [
      "0.5392982456140352\n",
      "Iteration No: 7 ended. Evaluation done at random point.\n",
      "Time taken: 0.4993\n",
      "Function value obtained: -0.3876\n",
      "Current minimum: -0.4285\n",
      "Iteration No: 8 started. Evaluating function at random point.\n",
      "[0.0015212976972079912, 14, 3, 0.8183084505971293, 0.7859673038076707, 189, 5, 3]\n",
      "[LightGBM] [Warning] bagging_freq is set=1, subsample_freq=0 will be ignored. Current value: bagging_freq=1\n"
     ]
    },
    {
     "name": "stderr",
     "output_type": "stream",
     "text": [
      "/home/gabriel/.anaconda3/lib/python3.8/site-packages/lightgbm/basic.py:597: UserWarning: Converting data to scipy sparse matrix.\n",
      "  warnings.warn('Converting data to scipy sparse matrix.')\n",
      "/home/gabriel/.anaconda3/lib/python3.8/site-packages/lightgbm/basic.py:597: UserWarning: Converting data to scipy sparse matrix.\n",
      "  warnings.warn('Converting data to scipy sparse matrix.')\n"
     ]
    },
    {
     "name": "stdout",
     "output_type": "stream",
     "text": [
      "0.5468421052631579\n",
      "Iteration No: 8 ended. Evaluation done at random point.\n",
      "Time taken: 1.2588\n",
      "Function value obtained: -0.4157\n",
      "Current minimum: -0.4285\n",
      "Iteration No: 9 started. Evaluating function at random point.\n",
      "[0.009565866803971352, 6, 18, 0.5235636153223084, 0.6728679300083596, 747, 4, 5]\n",
      "[LightGBM] [Warning] bagging_freq is set=1, subsample_freq=0 will be ignored. Current value: bagging_freq=1\n",
      "0.5449999999999999\n",
      "Iteration No: 9 ended. Evaluation done at random point.\n",
      "Time taken: 0.2235\n",
      "Function value obtained: -0.4221\n",
      "Current minimum: -0.4285\n",
      "Iteration No: 10 started. Evaluating function at random point.\n",
      "[0.0012116790683302117, 3, 2, 0.06616307483844217, 0.23025600705315752, 677, 2, 5]\n",
      "[LightGBM] [Warning] bagging_freq is set=1, subsample_freq=0 will be ignored. Current value: bagging_freq=1\n"
     ]
    },
    {
     "name": "stderr",
     "output_type": "stream",
     "text": [
      "/home/gabriel/.anaconda3/lib/python3.8/site-packages/lightgbm/basic.py:597: UserWarning: Converting data to scipy sparse matrix.\n",
      "  warnings.warn('Converting data to scipy sparse matrix.')\n",
      "/home/gabriel/.anaconda3/lib/python3.8/site-packages/lightgbm/basic.py:597: UserWarning: Converting data to scipy sparse matrix.\n",
      "  warnings.warn('Converting data to scipy sparse matrix.')\n"
     ]
    },
    {
     "name": "stdout",
     "output_type": "stream",
     "text": [
      "0.522280701754386\n",
      "Iteration No: 10 ended. Evaluation done at random point.\n",
      "Time taken: 0.3656\n",
      "Function value obtained: -0.3919\n",
      "Current minimum: -0.4285\n",
      "Iteration No: 11 started. Evaluating function at random point.\n",
      "[0.0053139776214487944, 6, 9, 0.14251441334450304, 0.8175761405215897, 297, 1, 5]\n",
      "[LightGBM] [Warning] bagging_freq is set=1, subsample_freq=0 will be ignored. Current value: bagging_freq=1\n",
      "0.5114912280701754\n",
      "Iteration No: 11 ended. Evaluation done at random point.\n",
      "Time taken: 0.1157\n",
      "Function value obtained: -0.3849\n",
      "Current minimum: -0.4285\n",
      "Iteration No: 12 started. Evaluating function at random point.\n",
      "[0.0068572961982704935, 10, 5, 0.2390386584472456, 0.49053406102209746, 176, 2, 4]\n",
      "[LightGBM] [Warning] bagging_freq is set=1, subsample_freq=0 will be ignored. Current value: bagging_freq=1\n"
     ]
    },
    {
     "name": "stderr",
     "output_type": "stream",
     "text": [
      "/home/gabriel/.anaconda3/lib/python3.8/site-packages/lightgbm/basic.py:597: UserWarning: Converting data to scipy sparse matrix.\n",
      "  warnings.warn('Converting data to scipy sparse matrix.')\n",
      "/home/gabriel/.anaconda3/lib/python3.8/site-packages/lightgbm/basic.py:597: UserWarning: Converting data to scipy sparse matrix.\n",
      "  warnings.warn('Converting data to scipy sparse matrix.')\n"
     ]
    },
    {
     "name": "stdout",
     "output_type": "stream",
     "text": [
      "0.5338596491228069\n",
      "Iteration No: 12 ended. Evaluation done at random point.\n",
      "Time taken: 0.2036\n",
      "Function value obtained: -0.3911\n",
      "Current minimum: -0.4285\n",
      "Iteration No: 13 started. Evaluating function at random point.\n",
      "[0.00781968225875022, 3, 4, 0.7078936710077383, 0.31818755505678337, 275, 4, 4]\n",
      "[LightGBM] [Warning] bagging_freq is set=1, subsample_freq=0 will be ignored. Current value: bagging_freq=1\n",
      "0.5112280701754386\n",
      "Iteration No: 13 ended. Evaluation done at random point.\n",
      "Time taken: 0.1368\n",
      "Function value obtained: -0.4121\n",
      "Current minimum: -0.4285\n",
      "Iteration No: 14 started. Evaluating function at random point.\n",
      "[0.017293945600511968, 2, 15, 0.9007557574888567, 0.41026441194439994, 316, 5, 1]\n",
      "[LightGBM] [Warning] bagging_freq is set=1, subsample_freq=0 will be ignored. Current value: bagging_freq=1\n"
     ]
    },
    {
     "name": "stderr",
     "output_type": "stream",
     "text": [
      "/home/gabriel/.anaconda3/lib/python3.8/site-packages/lightgbm/basic.py:597: UserWarning: Converting data to scipy sparse matrix.\n",
      "  warnings.warn('Converting data to scipy sparse matrix.')\n"
     ]
    },
    {
     "name": "stdout",
     "output_type": "stream",
     "text": [
      "0.5414035087719298\n",
      "Iteration No: 14 ended. Evaluation done at random point.\n",
      "Time taken: 0.0937\n",
      "Function value obtained: -0.3989\n",
      "Current minimum: -0.4285\n",
      "Iteration No: 15 started. Evaluating function at random point.\n",
      "[0.012250750764764855, 8, 6, 0.5976582413192033, 0.2474882432951916, 516, 4, 4]\n",
      "[LightGBM] [Warning] bagging_freq is set=1, subsample_freq=0 will be ignored. Current value: bagging_freq=1\n"
     ]
    },
    {
     "name": "stderr",
     "output_type": "stream",
     "text": [
      "/home/gabriel/.anaconda3/lib/python3.8/site-packages/lightgbm/basic.py:597: UserWarning: Converting data to scipy sparse matrix.\n",
      "  warnings.warn('Converting data to scipy sparse matrix.')\n",
      "/home/gabriel/.anaconda3/lib/python3.8/site-packages/lightgbm/basic.py:597: UserWarning: Converting data to scipy sparse matrix.\n",
      "  warnings.warn('Converting data to scipy sparse matrix.')\n"
     ]
    },
    {
     "name": "stdout",
     "output_type": "stream",
     "text": [
      "0.5113157894736842\n",
      "Iteration No: 15 ended. Evaluation done at random point.\n",
      "Time taken: 0.3184\n",
      "Function value obtained: -0.3631\n",
      "Current minimum: -0.4285\n",
      "Iteration No: 16 started. Evaluating function at random point.\n",
      "[0.018353598126553926, 4, 3, 0.47305622526323254, 0.1404164811277527, 133, 4, 1]\n",
      "[LightGBM] [Warning] bagging_freq is set=1, subsample_freq=0 will be ignored. Current value: bagging_freq=1\n",
      "0.4993859649122807\n",
      "Iteration No: 16 ended. Evaluation done at random point.\n",
      "Time taken: 0.1116\n",
      "Function value obtained: -0.3754\n",
      "Current minimum: -0.4285\n",
      "Iteration No: 17 started. Evaluating function at random point.\n",
      "[0.0010383234748454694, 15, 19, 0.9256771571832196, 0.9321438677645206, 312, 4, 3]\n",
      "[LightGBM] [Warning] bagging_freq is set=1, subsample_freq=0 will be ignored. Current value: bagging_freq=1\n"
     ]
    },
    {
     "name": "stderr",
     "output_type": "stream",
     "text": [
      "/home/gabriel/.anaconda3/lib/python3.8/site-packages/lightgbm/basic.py:597: UserWarning: Converting data to scipy sparse matrix.\n",
      "  warnings.warn('Converting data to scipy sparse matrix.')\n",
      "/home/gabriel/.anaconda3/lib/python3.8/site-packages/lightgbm/basic.py:597: UserWarning: Converting data to scipy sparse matrix.\n",
      "  warnings.warn('Converting data to scipy sparse matrix.')\n"
     ]
    },
    {
     "name": "stdout",
     "output_type": "stream",
     "text": [
      "0.5323684210526316\n",
      "Iteration No: 17 ended. Evaluation done at random point.\n",
      "Time taken: 2.1645\n",
      "Function value obtained: -0.3797\n",
      "Current minimum: -0.4285\n",
      "Iteration No: 18 started. Evaluating function at random point.\n",
      "[0.004955229758078229, 5, 5, 0.06939551310802591, 0.4193273080472823, 725, 4, 1]\n",
      "[LightGBM] [Warning] bagging_freq is set=1, subsample_freq=0 will be ignored. Current value: bagging_freq=1\n",
      "0.546578947368421\n",
      "Iteration No: 18 ended. Evaluation done at random point.\n",
      "Time taken: 0.1158\n",
      "Function value obtained: -0.4121\n",
      "Current minimum: -0.4285\n",
      "Iteration No: 19 started. Evaluating function at random point.\n",
      "[0.0699516121742407, 11, 9, 0.22351444794819092, 0.9946871410890346, 947, 5, 1]\n",
      "[LightGBM] [Warning] bagging_freq is set=1, subsample_freq=0 will be ignored. Current value: bagging_freq=1\n"
     ]
    },
    {
     "name": "stderr",
     "output_type": "stream",
     "text": [
      "/home/gabriel/.anaconda3/lib/python3.8/site-packages/lightgbm/basic.py:597: UserWarning: Converting data to scipy sparse matrix.\n",
      "  warnings.warn('Converting data to scipy sparse matrix.')\n"
     ]
    },
    {
     "name": "stdout",
     "output_type": "stream",
     "text": [
      "0.5012280701754386\n",
      "Iteration No: 19 ended. Evaluation done at random point.\n",
      "Time taken: 0.4032\n",
      "Function value obtained: -0.3812\n",
      "Current minimum: -0.4285\n",
      "Iteration No: 20 started. Evaluating function at random point.\n",
      "[0.004955402904180171, 6, 1, 0.13021457554920057, 0.6158804906347372, 615, 3, 4]\n",
      "[LightGBM] [Warning] bagging_freq is set=1, subsample_freq=0 will be ignored. Current value: bagging_freq=1\n"
     ]
    },
    {
     "name": "stderr",
     "output_type": "stream",
     "text": [
      "/home/gabriel/.anaconda3/lib/python3.8/site-packages/lightgbm/basic.py:597: UserWarning: Converting data to scipy sparse matrix.\n",
      "  warnings.warn('Converting data to scipy sparse matrix.')\n"
     ]
    },
    {
     "name": "stdout",
     "output_type": "stream",
     "text": [
      "0.5416666666666666\n",
      "Iteration No: 20 ended. Evaluation done at random point.\n",
      "Time taken: 1.0105\n",
      "Function value obtained: -0.3846\n",
      "Current minimum: -0.4285\n",
      "Iteration No: 21 started. Searching for the next optimal point.\n",
      "[0.05195259350021447, 11, 20, 0.7078945360275744, 0.15060221518303796, 749, 4, 1]\n",
      "[LightGBM] [Warning] bagging_freq is set=1, subsample_freq=0 will be ignored. Current value: bagging_freq=1\n"
     ]
    },
    {
     "name": "stderr",
     "output_type": "stream",
     "text": [
      "/home/gabriel/.anaconda3/lib/python3.8/site-packages/lightgbm/basic.py:597: UserWarning: Converting data to scipy sparse matrix.\n",
      "  warnings.warn('Converting data to scipy sparse matrix.')\n"
     ]
    },
    {
     "name": "stdout",
     "output_type": "stream",
     "text": [
      "0.5163157894736841\n",
      "Iteration No: 21 ended. Search finished for the next optimal point.\n",
      "Time taken: 0.8017\n",
      "Function value obtained: -0.3750\n",
      "Current minimum: -0.4285\n",
      "Iteration No: 22 started. Searching for the next optimal point.\n",
      "[0.04528337896351853, 7, 18, 0.10341309161224294, 0.16695132655302086, 925, 3, 1]\n",
      "[LightGBM] [Warning] bagging_freq is set=1, subsample_freq=0 will be ignored. Current value: bagging_freq=1\n",
      "0.5\n"
     ]
    },
    {
     "name": "stderr",
     "output_type": "stream",
     "text": [
      "/home/gabriel/.anaconda3/lib/python3.8/site-packages/lightgbm/basic.py:597: UserWarning: Converting data to scipy sparse matrix.\n",
      "  warnings.warn('Converting data to scipy sparse matrix.')\n"
     ]
    },
    {
     "name": "stdout",
     "output_type": "stream",
     "text": [
      "Iteration No: 22 ended. Search finished for the next optimal point.\n",
      "Time taken: 0.6742\n",
      "Function value obtained: -0.3631\n",
      "Current minimum: -0.4285\n",
      "Iteration No: 23 started. Searching for the next optimal point.\n",
      "[0.0562789232945079, 6, 18, 0.05968626595221926, 0.1771252964136254, 998, 4, 3]\n",
      "[LightGBM] [Warning] bagging_freq is set=1, subsample_freq=0 will be ignored. Current value: bagging_freq=1\n",
      "0.5\n"
     ]
    },
    {
     "name": "stderr",
     "output_type": "stream",
     "text": [
      "/home/gabriel/.anaconda3/lib/python3.8/site-packages/lightgbm/basic.py:597: UserWarning: Converting data to scipy sparse matrix.\n",
      "  warnings.warn('Converting data to scipy sparse matrix.')\n"
     ]
    },
    {
     "name": "stdout",
     "output_type": "stream",
     "text": [
      "Iteration No: 23 ended. Search finished for the next optimal point.\n",
      "Time taken: 0.5746\n",
      "Function value obtained: -0.3631\n",
      "Current minimum: -0.4285\n",
      "Iteration No: 24 started. Searching for the next optimal point.\n",
      "[0.010962900927020083, 6, 19, 0.49769994947152246, 0.11202159692601399, 930, 4, 1]\n",
      "[LightGBM] [Warning] bagging_freq is set=1, subsample_freq=0 will be ignored. Current value: bagging_freq=1\n",
      "0.5253508771929825\n"
     ]
    },
    {
     "name": "stderr",
     "output_type": "stream",
     "text": [
      "/home/gabriel/.anaconda3/lib/python3.8/site-packages/lightgbm/basic.py:597: UserWarning: Converting data to scipy sparse matrix.\n",
      "  warnings.warn('Converting data to scipy sparse matrix.')\n"
     ]
    },
    {
     "name": "stdout",
     "output_type": "stream",
     "text": [
      "Iteration No: 24 ended. Search finished for the next optimal point.\n",
      "Time taken: 0.7342\n",
      "Function value obtained: -0.3899\n",
      "Current minimum: -0.4285\n",
      "Iteration No: 25 started. Searching for the next optimal point.\n",
      "[0.05560352507779976, 15, 19, 0.19336126704259698, 0.1484505857435771, 957, 2, 3]\n",
      "[LightGBM] [Warning] bagging_freq is set=1, subsample_freq=0 will be ignored. Current value: bagging_freq=1\n"
     ]
    },
    {
     "name": "stderr",
     "output_type": "stream",
     "text": [
      "/home/gabriel/.anaconda3/lib/python3.8/site-packages/lightgbm/basic.py:597: UserWarning: Converting data to scipy sparse matrix.\n",
      "  warnings.warn('Converting data to scipy sparse matrix.')\n"
     ]
    },
    {
     "name": "stdout",
     "output_type": "stream",
     "text": [
      "0.5389473684210526\n",
      "Iteration No: 25 ended. Search finished for the next optimal point.\n",
      "Time taken: 2.7469\n",
      "Function value obtained: -0.3857\n",
      "Current minimum: -0.4285\n",
      "Iteration No: 26 started. Searching for the next optimal point.\n",
      "[0.05906522180447278, 7, 17, 0.26855923801299086, 0.2893216994982986, 775, 4, 1]\n",
      "[LightGBM] [Warning] bagging_freq is set=1, subsample_freq=0 will be ignored. Current value: bagging_freq=1\n",
      "0.4485087719298245\n"
     ]
    },
    {
     "name": "stderr",
     "output_type": "stream",
     "text": [
      "/home/gabriel/.anaconda3/lib/python3.8/site-packages/lightgbm/basic.py:597: UserWarning: Converting data to scipy sparse matrix.\n",
      "  warnings.warn('Converting data to scipy sparse matrix.')\n"
     ]
    },
    {
     "name": "stdout",
     "output_type": "stream",
     "text": [
      "Iteration No: 26 ended. Search finished for the next optimal point.\n",
      "Time taken: 0.6477\n",
      "Function value obtained: -0.3511\n",
      "Current minimum: -0.4285\n",
      "Iteration No: 27 started. Searching for the next optimal point.\n",
      "[0.0694628857577433, 1, 19, 0.3803474290968138, 0.6668484325272054, 862, 4, 1]\n",
      "[LightGBM] [Warning] bagging_freq is set=1, subsample_freq=0 will be ignored. Current value: bagging_freq=1\n",
      "0.4619298245614035\n"
     ]
    },
    {
     "name": "stderr",
     "output_type": "stream",
     "text": [
      "/home/gabriel/.anaconda3/lib/python3.8/site-packages/lightgbm/basic.py:597: UserWarning: Converting data to scipy sparse matrix.\n",
      "  warnings.warn('Converting data to scipy sparse matrix.')\n"
     ]
    },
    {
     "name": "stdout",
     "output_type": "stream",
     "text": [
      "Iteration No: 27 ended. Search finished for the next optimal point.\n",
      "Time taken: 0.6911\n",
      "Function value obtained: -0.3553\n",
      "Current minimum: -0.4285\n",
      "Iteration No: 28 started. Searching for the next optimal point.\n",
      "[0.010603151967481083, 5, 17, 0.46466562505330733, 0.3817140249132511, 523, 4, 5]\n",
      "[LightGBM] [Warning] bagging_freq is set=1, subsample_freq=0 will be ignored. Current value: bagging_freq=1\n",
      "0.5432456140350878\n"
     ]
    },
    {
     "name": "stderr",
     "output_type": "stream",
     "text": [
      "/home/gabriel/.anaconda3/lib/python3.8/site-packages/lightgbm/basic.py:597: UserWarning: Converting data to scipy sparse matrix.\n",
      "  warnings.warn('Converting data to scipy sparse matrix.')\n"
     ]
    },
    {
     "name": "stdout",
     "output_type": "stream",
     "text": [
      "Iteration No: 28 ended. Search finished for the next optimal point.\n",
      "Time taken: 0.7399\n",
      "Function value obtained: -0.4273\n",
      "Current minimum: -0.4285\n",
      "Iteration No: 29 started. Searching for the next optimal point.\n",
      "[0.01029606737114396, 7, 17, 0.5178833270961892, 0.3765751900385231, 533, 4, 4]\n",
      "[LightGBM] [Warning] bagging_freq is set=1, subsample_freq=0 will be ignored. Current value: bagging_freq=1\n",
      "0.547719298245614\n"
     ]
    },
    {
     "name": "stderr",
     "output_type": "stream",
     "text": [
      "/home/gabriel/.anaconda3/lib/python3.8/site-packages/lightgbm/basic.py:597: UserWarning: Converting data to scipy sparse matrix.\n",
      "  warnings.warn('Converting data to scipy sparse matrix.')\n"
     ]
    },
    {
     "name": "stdout",
     "output_type": "stream",
     "text": [
      "Iteration No: 29 ended. Search finished for the next optimal point.\n",
      "Time taken: 0.6188\n",
      "Function value obtained: -0.4316\n",
      "Current minimum: -0.4316\n",
      "Iteration No: 30 started. Searching for the next optimal point.\n",
      "[0.017641152133788654, 13, 18, 0.45356929712943245, 0.33286819320928085, 778, 5, 5]\n",
      "[LightGBM] [Warning] bagging_freq is set=1, subsample_freq=0 will be ignored. Current value: bagging_freq=1\n"
     ]
    },
    {
     "name": "stderr",
     "output_type": "stream",
     "text": [
      "/home/gabriel/.anaconda3/lib/python3.8/site-packages/lightgbm/basic.py:597: UserWarning: Converting data to scipy sparse matrix.\n",
      "  warnings.warn('Converting data to scipy sparse matrix.')\n"
     ]
    },
    {
     "name": "stdout",
     "output_type": "stream",
     "text": [
      "0.5492982456140351\n",
      "Iteration No: 30 ended. Search finished for the next optimal point.\n",
      "Time taken: 1.1204\n",
      "Function value obtained: -0.4247\n",
      "Current minimum: -0.4316\n",
      "Iteration No: 31 started. Searching for the next optimal point.\n",
      "[0.0786438498774217, 5, 18, 0.5091353721186425, 0.3719407265190602, 159, 5, 5]\n",
      "[LightGBM] [Warning] bagging_freq is set=1, subsample_freq=0 will be ignored. Current value: bagging_freq=1\n",
      "0.5343859649122806\n"
     ]
    },
    {
     "name": "stderr",
     "output_type": "stream",
     "text": [
      "/home/gabriel/.anaconda3/lib/python3.8/site-packages/lightgbm/basic.py:597: UserWarning: Converting data to scipy sparse matrix.\n",
      "  warnings.warn('Converting data to scipy sparse matrix.')\n"
     ]
    },
    {
     "name": "stdout",
     "output_type": "stream",
     "text": [
      "Iteration No: 31 ended. Search finished for the next optimal point.\n",
      "Time taken: 0.5954\n",
      "Function value obtained: -0.4206\n",
      "Current minimum: -0.4316\n",
      "Iteration No: 32 started. Searching for the next optimal point.\n",
      "[0.047109107142463906, 6, 19, 0.6117008830176226, 0.27017730114785654, 773, 4, 5]\n",
      "[LightGBM] [Warning] bagging_freq is set=1, subsample_freq=0 will be ignored. Current value: bagging_freq=1\n",
      "0.5108771929824563\n"
     ]
    },
    {
     "name": "stderr",
     "output_type": "stream",
     "text": [
      "/home/gabriel/.anaconda3/lib/python3.8/site-packages/lightgbm/basic.py:597: UserWarning: Converting data to scipy sparse matrix.\n",
      "  warnings.warn('Converting data to scipy sparse matrix.')\n"
     ]
    },
    {
     "name": "stdout",
     "output_type": "stream",
     "text": [
      "Iteration No: 32 ended. Search finished for the next optimal point.\n",
      "Time taken: 0.6867\n",
      "Function value obtained: -0.3731\n",
      "Current minimum: -0.4316\n",
      "Iteration No: 33 started. Searching for the next optimal point.\n",
      "[0.025503779085629487, 5, 19, 0.42143742309444476, 0.590462690732925, 526, 5, 5]\n",
      "[LightGBM] [Warning] bagging_freq is set=1, subsample_freq=0 will be ignored. Current value: bagging_freq=1\n",
      "0.5399122807017543\n"
     ]
    },
    {
     "name": "stderr",
     "output_type": "stream",
     "text": [
      "/home/gabriel/.anaconda3/lib/python3.8/site-packages/lightgbm/basic.py:597: UserWarning: Converting data to scipy sparse matrix.\n",
      "  warnings.warn('Converting data to scipy sparse matrix.')\n"
     ]
    },
    {
     "name": "stdout",
     "output_type": "stream",
     "text": [
      "Iteration No: 33 ended. Search finished for the next optimal point.\n",
      "Time taken: 0.7117\n",
      "Function value obtained: -0.4228\n",
      "Current minimum: -0.4316\n",
      "Iteration No: 34 started. Searching for the next optimal point.\n",
      "[0.014709797661405474, 11, 18, 0.5006381259619506, 0.3350134678074511, 232, 4, 5]\n",
      "[LightGBM] [Warning] bagging_freq is set=1, subsample_freq=0 will be ignored. Current value: bagging_freq=1\n",
      "0.5628070175438596\n"
     ]
    },
    {
     "name": "stderr",
     "output_type": "stream",
     "text": [
      "/home/gabriel/.anaconda3/lib/python3.8/site-packages/lightgbm/basic.py:597: UserWarning: Converting data to scipy sparse matrix.\n",
      "  warnings.warn('Converting data to scipy sparse matrix.')\n"
     ]
    },
    {
     "name": "stdout",
     "output_type": "stream",
     "text": [
      "Iteration No: 34 ended. Search finished for the next optimal point.\n",
      "Time taken: 0.6787\n",
      "Function value obtained: -0.4288\n",
      "Current minimum: -0.4316\n",
      "Iteration No: 35 started. Searching for the next optimal point.\n",
      "[0.017260409514394472, 15, 16, 0.5141379876684112, 0.2610771859916649, 148, 1, 5]\n",
      "[LightGBM] [Warning] bagging_freq is set=1, subsample_freq=0 will be ignored. Current value: bagging_freq=1\n"
     ]
    },
    {
     "name": "stderr",
     "output_type": "stream",
     "text": [
      "/home/gabriel/.anaconda3/lib/python3.8/site-packages/lightgbm/basic.py:597: UserWarning: Converting data to scipy sparse matrix.\n",
      "  warnings.warn('Converting data to scipy sparse matrix.')\n"
     ]
    },
    {
     "name": "stdout",
     "output_type": "stream",
     "text": [
      "0.5535964912280702\n",
      "Iteration No: 35 ended. Search finished for the next optimal point.\n",
      "Time taken: 1.1841\n",
      "Function value obtained: -0.4110\n",
      "Current minimum: -0.4316\n",
      "Iteration No: 36 started. Searching for the next optimal point.\n",
      "[0.04689061354539554, 14, 20, 0.44958764316895183, 0.36995342221184535, 612, 4, 5]\n",
      "[LightGBM] [Warning] bagging_freq is set=1, subsample_freq=0 will be ignored. Current value: bagging_freq=1\n"
     ]
    },
    {
     "name": "stderr",
     "output_type": "stream",
     "text": [
      "/home/gabriel/.anaconda3/lib/python3.8/site-packages/lightgbm/basic.py:597: UserWarning: Converting data to scipy sparse matrix.\n",
      "  warnings.warn('Converting data to scipy sparse matrix.')\n"
     ]
    },
    {
     "name": "stdout",
     "output_type": "stream",
     "text": [
      "0.518859649122807\n",
      "Iteration No: 36 ended. Search finished for the next optimal point.\n",
      "Time taken: 1.7048\n",
      "Function value obtained: -0.4179\n",
      "Current minimum: -0.4316\n",
      "Iteration No: 37 started. Searching for the next optimal point.\n",
      "[0.007686091527671306, 4, 17, 0.4607533993842288, 0.20231921708771167, 839, 4, 5]\n",
      "[LightGBM] [Warning] bagging_freq is set=1, subsample_freq=0 will be ignored. Current value: bagging_freq=1\n",
      "0.5443859649122806\n"
     ]
    },
    {
     "name": "stderr",
     "output_type": "stream",
     "text": [
      "/home/gabriel/.anaconda3/lib/python3.8/site-packages/lightgbm/basic.py:597: UserWarning: Converting data to scipy sparse matrix.\n",
      "  warnings.warn('Converting data to scipy sparse matrix.')\n"
     ]
    },
    {
     "name": "stdout",
     "output_type": "stream",
     "text": [
      "Iteration No: 37 ended. Search finished for the next optimal point.\n",
      "Time taken: 0.7009\n",
      "Function value obtained: -0.4187\n",
      "Current minimum: -0.4316\n",
      "Iteration No: 38 started. Searching for the next optimal point.\n",
      "[0.009755989568690922, 10, 20, 0.5494659592684037, 0.36790569530401346, 436, 4, 4]\n",
      "[LightGBM] [Warning] bagging_freq is set=1, subsample_freq=0 will be ignored. Current value: bagging_freq=1\n",
      "0.5580701754385965\n"
     ]
    },
    {
     "name": "stderr",
     "output_type": "stream",
     "text": [
      "/home/gabriel/.anaconda3/lib/python3.8/site-packages/lightgbm/basic.py:597: UserWarning: Converting data to scipy sparse matrix.\n",
      "  warnings.warn('Converting data to scipy sparse matrix.')\n"
     ]
    },
    {
     "name": "stdout",
     "output_type": "stream",
     "text": [
      "Iteration No: 38 ended. Search finished for the next optimal point.\n",
      "Time taken: 0.6855\n",
      "Function value obtained: -0.4591\n",
      "Current minimum: -0.4591\n",
      "Iteration No: 39 started. Searching for the next optimal point.\n",
      "[0.010996126177207218, 13, 17, 0.5353854209330845, 0.2135022545834191, 435, 5, 4]\n",
      "[LightGBM] [Warning] bagging_freq is set=1, subsample_freq=0 will be ignored. Current value: bagging_freq=1\n"
     ]
    },
    {
     "name": "stderr",
     "output_type": "stream",
     "text": [
      "/home/gabriel/.anaconda3/lib/python3.8/site-packages/lightgbm/basic.py:597: UserWarning: Converting data to scipy sparse matrix.\n",
      "  warnings.warn('Converting data to scipy sparse matrix.')\n"
     ]
    },
    {
     "name": "stdout",
     "output_type": "stream",
     "text": [
      "0.5601754385964911\n",
      "Iteration No: 39 ended. Search finished for the next optimal point.\n",
      "Time taken: 0.8832\n",
      "Function value obtained: -0.4210\n",
      "Current minimum: -0.4591\n",
      "Iteration No: 40 started. Searching for the next optimal point.\n",
      "[0.010952386849461903, 9, 20, 0.6605979632535616, 0.31523630549668197, 346, 4, 4]\n",
      "[LightGBM] [Warning] bagging_freq is set=1, subsample_freq=0 will be ignored. Current value: bagging_freq=1\n",
      "0.5596491228070175\n"
     ]
    },
    {
     "name": "stderr",
     "output_type": "stream",
     "text": [
      "/home/gabriel/.anaconda3/lib/python3.8/site-packages/lightgbm/basic.py:597: UserWarning: Converting data to scipy sparse matrix.\n",
      "  warnings.warn('Converting data to scipy sparse matrix.')\n"
     ]
    },
    {
     "name": "stdout",
     "output_type": "stream",
     "text": [
      "Iteration No: 40 ended. Search finished for the next optimal point.\n",
      "Time taken: 0.6393\n",
      "Function value obtained: -0.4348\n",
      "Current minimum: -0.4591\n",
      "Iteration No: 41 started. Searching for the next optimal point.\n",
      "[0.012036439837569347, 6, 20, 0.1877743593612452, 0.38252854949946674, 300, 4, 4]\n",
      "[LightGBM] [Warning] bagging_freq is set=1, subsample_freq=0 will be ignored. Current value: bagging_freq=1\n",
      "0.5264912280701755\n"
     ]
    },
    {
     "name": "stderr",
     "output_type": "stream",
     "text": [
      "/home/gabriel/.anaconda3/lib/python3.8/site-packages/lightgbm/basic.py:597: UserWarning: Converting data to scipy sparse matrix.\n",
      "  warnings.warn('Converting data to scipy sparse matrix.')\n"
     ]
    },
    {
     "name": "stdout",
     "output_type": "stream",
     "text": [
      "Iteration No: 41 ended. Search finished for the next optimal point.\n",
      "Time taken: 0.6088\n",
      "Function value obtained: -0.3779\n",
      "Current minimum: -0.4591\n",
      "Iteration No: 42 started. Searching for the next optimal point.\n",
      "[0.0023636666783931155, 12, 20, 0.7316965691289751, 0.27040196313994846, 502, 5, 4]\n",
      "[LightGBM] [Warning] bagging_freq is set=1, subsample_freq=0 will be ignored. Current value: bagging_freq=1\n"
     ]
    },
    {
     "name": "stderr",
     "output_type": "stream",
     "text": [
      "/home/gabriel/.anaconda3/lib/python3.8/site-packages/lightgbm/basic.py:597: UserWarning: Converting data to scipy sparse matrix.\n",
      "  warnings.warn('Converting data to scipy sparse matrix.')\n"
     ]
    },
    {
     "name": "stdout",
     "output_type": "stream",
     "text": [
      "0.5643859649122807\n",
      "Iteration No: 42 ended. Search finished for the next optimal point.\n",
      "Time taken: 0.8286\n",
      "Function value obtained: -0.4193\n",
      "Current minimum: -0.4591\n",
      "Iteration No: 43 started. Searching for the next optimal point.\n",
      "[0.021878064938048142, 11, 20, 0.8532177745647387, 0.41208157156770825, 528, 4, 4]\n",
      "[LightGBM] [Warning] bagging_freq is set=1, subsample_freq=0 will be ignored. Current value: bagging_freq=1\n"
     ]
    },
    {
     "name": "stderr",
     "output_type": "stream",
     "text": [
      "/home/gabriel/.anaconda3/lib/python3.8/site-packages/lightgbm/basic.py:597: UserWarning: Converting data to scipy sparse matrix.\n",
      "  warnings.warn('Converting data to scipy sparse matrix.')\n"
     ]
    },
    {
     "name": "stdout",
     "output_type": "stream",
     "text": [
      "0.525\n",
      "Iteration No: 43 ended. Search finished for the next optimal point.\n",
      "Time taken: 0.8174\n",
      "Function value obtained: -0.3793\n",
      "Current minimum: -0.4591\n",
      "Iteration No: 44 started. Searching for the next optimal point.\n",
      "[0.005411107100146343, 14, 18, 0.6485703538039759, 0.3667013371216595, 383, 4, 4]\n",
      "[LightGBM] [Warning] bagging_freq is set=1, subsample_freq=0 will be ignored. Current value: bagging_freq=1\n"
     ]
    },
    {
     "name": "stderr",
     "output_type": "stream",
     "text": [
      "/home/gabriel/.anaconda3/lib/python3.8/site-packages/lightgbm/basic.py:597: UserWarning: Converting data to scipy sparse matrix.\n",
      "  warnings.warn('Converting data to scipy sparse matrix.')\n"
     ]
    },
    {
     "name": "stdout",
     "output_type": "stream",
     "text": [
      "0.5528070175438596\n",
      "Iteration No: 44 ended. Search finished for the next optimal point.\n",
      "Time taken: 1.2800\n",
      "Function value obtained: -0.4230\n",
      "Current minimum: -0.4591\n",
      "Iteration No: 45 started. Searching for the next optimal point.\n",
      "[0.01079136410462864, 8, 19, 0.5522853581078869, 0.5674994772391371, 464, 4, 4]\n",
      "[LightGBM] [Warning] bagging_freq is set=1, subsample_freq=0 will be ignored. Current value: bagging_freq=1\n",
      "0.5534210526315789\n"
     ]
    },
    {
     "name": "stderr",
     "output_type": "stream",
     "text": [
      "/home/gabriel/.anaconda3/lib/python3.8/site-packages/lightgbm/basic.py:597: UserWarning: Converting data to scipy sparse matrix.\n",
      "  warnings.warn('Converting data to scipy sparse matrix.')\n"
     ]
    },
    {
     "name": "stdout",
     "output_type": "stream",
     "text": [
      "Iteration No: 45 ended. Search finished for the next optimal point.\n",
      "Time taken: 0.5908\n",
      "Function value obtained: -0.4351\n",
      "Current minimum: -0.4591\n",
      "Iteration No: 46 started. Searching for the next optimal point.\n",
      "[0.013794932689210995, 8, 19, 0.5415878644310625, 0.5877794797196334, 315, 4, 4]\n",
      "[LightGBM] [Warning] bagging_freq is set=1, subsample_freq=0 will be ignored. Current value: bagging_freq=1\n",
      "0.5568421052631579\n"
     ]
    },
    {
     "name": "stderr",
     "output_type": "stream",
     "text": [
      "/home/gabriel/.anaconda3/lib/python3.8/site-packages/lightgbm/basic.py:597: UserWarning: Converting data to scipy sparse matrix.\n",
      "  warnings.warn('Converting data to scipy sparse matrix.')\n"
     ]
    },
    {
     "name": "stdout",
     "output_type": "stream",
     "text": [
      "Iteration No: 46 ended. Search finished for the next optimal point.\n",
      "Time taken: 0.5968\n",
      "Function value obtained: -0.4291\n",
      "Current minimum: -0.4591\n",
      "Iteration No: 47 started. Searching for the next optimal point.\n",
      "[0.011369608176962588, 7, 20, 0.36235950100439596, 0.3479103628708842, 273, 4, 4]\n",
      "[LightGBM] [Warning] bagging_freq is set=1, subsample_freq=0 will be ignored. Current value: bagging_freq=1\n",
      "0.5605263157894737\n"
     ]
    },
    {
     "name": "stderr",
     "output_type": "stream",
     "text": [
      "/home/gabriel/.anaconda3/lib/python3.8/site-packages/lightgbm/basic.py:597: UserWarning: Converting data to scipy sparse matrix.\n",
      "  warnings.warn('Converting data to scipy sparse matrix.')\n"
     ]
    },
    {
     "name": "stdout",
     "output_type": "stream",
     "text": [
      "Iteration No: 47 ended. Search finished for the next optimal point.\n",
      "Time taken: 0.6575\n",
      "Function value obtained: -0.4205\n",
      "Current minimum: -0.4591\n",
      "Iteration No: 48 started. Searching for the next optimal point.\n",
      "[0.011399736313634907, 15, 19, 0.5743066524685474, 0.3578383405198918, 930, 4, 4]\n",
      "[LightGBM] [Warning] bagging_freq is set=1, subsample_freq=0 will be ignored. Current value: bagging_freq=1\n"
     ]
    },
    {
     "name": "stderr",
     "output_type": "stream",
     "text": [
      "/home/gabriel/.anaconda3/lib/python3.8/site-packages/lightgbm/basic.py:597: UserWarning: Converting data to scipy sparse matrix.\n",
      "  warnings.warn('Converting data to scipy sparse matrix.')\n"
     ]
    },
    {
     "name": "stdout",
     "output_type": "stream",
     "text": [
      "0.5320175438596491\n",
      "Iteration No: 48 ended. Search finished for the next optimal point.\n",
      "Time taken: 4.6141\n",
      "Function value obtained: -0.3883\n",
      "Current minimum: -0.4591\n",
      "Iteration No: 49 started. Searching for the next optimal point.\n",
      "[0.010942300203808828, 9, 14, 0.5414389443862576, 0.7555998291102568, 420, 5, 4]\n",
      "[LightGBM] [Warning] bagging_freq is set=1, subsample_freq=0 will be ignored. Current value: bagging_freq=1\n",
      "0.5570175438596491\n"
     ]
    },
    {
     "name": "stderr",
     "output_type": "stream",
     "text": [
      "/home/gabriel/.anaconda3/lib/python3.8/site-packages/lightgbm/basic.py:597: UserWarning: Converting data to scipy sparse matrix.\n",
      "  warnings.warn('Converting data to scipy sparse matrix.')\n"
     ]
    },
    {
     "name": "stdout",
     "output_type": "stream",
     "text": [
      "Iteration No: 49 ended. Search finished for the next optimal point.\n",
      "Time taken: 0.6909\n",
      "Function value obtained: -0.4103\n",
      "Current minimum: -0.4591\n",
      "Iteration No: 50 started. Searching for the next optimal point.\n",
      "[0.003429106657950565, 10, 20, 0.36099260125130456, 0.20334746014685123, 634, 4, 4]\n",
      "[LightGBM] [Warning] bagging_freq is set=1, subsample_freq=0 will be ignored. Current value: bagging_freq=1\n",
      "0.5353508771929825\n"
     ]
    },
    {
     "name": "stderr",
     "output_type": "stream",
     "text": [
      "/home/gabriel/.anaconda3/lib/python3.8/site-packages/lightgbm/basic.py:597: UserWarning: Converting data to scipy sparse matrix.\n",
      "  warnings.warn('Converting data to scipy sparse matrix.')\n"
     ]
    },
    {
     "name": "stdout",
     "output_type": "stream",
     "text": [
      "Iteration No: 50 ended. Search finished for the next optimal point.\n",
      "Time taken: 0.6634\n",
      "Function value obtained: -0.4001\n",
      "Current minimum: -0.4591\n"
     ]
    }
   ],
   "source": [
    "def tune_lgbm(params):\n",
    "    print(params)\n",
    "    lr = params[0]\n",
    "    max_depth = params[1]\n",
    "    min_child_samples = params[2]\n",
    "    subsample = params[3]\n",
    "    colsample_bytree = params[4]\n",
    "    n_estimators = params[5]\n",
    "    min_df = params[6]\n",
    "    ngram_range = (1, params[7])\n",
    "    \n",
    "    title_vec = TfidfVectorizer(min_df=min_df, ngram_range=ngram_range)\n",
    "    title_bow_train = title_vec.fit_transform(title_train)\n",
    "    title_bow_val = title_vec.transform(title_val)\n",
    "    \n",
    "    Xtrain_wtitle = hstack([Xtrain, title_bow_train])\n",
    "    Xval_wtitle = hstack([Xval, title_bow_val])\n",
    "    \n",
    "    mdl = LGBMClassifier(\n",
    "        learning_rate=lr,\n",
    "        num_leaves=2 ** max_depth,\n",
    "        max_depth=max_depth,\n",
    "        min_child_samples=min_child_samples,\n",
    "        subsample=subsample,\n",
    "        colsample_bytree=colsample_bytree,\n",
    "        bagging_freq=1,\n",
    "        n_estimators=n_estimators,\n",
    "        random_state=0,\n",
    "        class_weight='balanced',\n",
    "        n_jobs=3\n",
    "    )\n",
    "    \n",
    "    mdl.fit(Xtrain_wtitle, ytrain)\n",
    "    \n",
    "    p = mdl.predict_proba(Xval_wtitle)[:, 1]\n",
    "    \n",
    "    print(roc_auc_score(yval, p))\n",
    "    \n",
    "    return -average_precision_score(yval, p)\n",
    "\n",
    "space = [\n",
    "    (1e-3, 1e-1, 'log-uniform'), # lr\n",
    "    (1, 15), # max_depth\n",
    "    (1, 20), # min_child_samples\n",
    "    (0.05, 1.), # subsample\n",
    "    (0.05, 1.), # colsample_bytree\n",
    "    (100, 1000), # n_estimators\n",
    "    (1, 5), # min_df\n",
    "    (1, 5) # ngram_range\n",
    "]\n",
    "\n",
    "res = forest_minimize(tune_lgbm, space, random_state=160745, n_random_starts=20, n_calls=50, verbose=1)"
   ]
  },
  {
   "cell_type": "raw",
   "id": "similar-valuation",
   "metadata": {},
   "source": [
    "[0.009755989568690922, 10, 20, 0.5494659592684037, 0.36790569530401346, 436, 4, 4]\n",
    "\n",
    "ap=0.4591, auc=0.5580701754385965"
   ]
  }
 ],
 "metadata": {
  "kernelspec": {
   "display_name": "Python 3",
   "language": "python",
   "name": "python3"
  },
  "language_info": {
   "codemirror_mode": {
    "name": "ipython",
    "version": 3
   },
   "file_extension": ".py",
   "mimetype": "text/x-python",
   "name": "python",
   "nbconvert_exporter": "python",
   "pygments_lexer": "ipython3",
   "version": "3.8.8"
  }
 },
 "nbformat": 4,
 "nbformat_minor": 5
}
