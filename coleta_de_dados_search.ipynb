{
 "cells": [
  {
   "cell_type": "code",
   "execution_count": 1,
   "metadata": {},
   "outputs": [],
   "source": [
    "import pandas as pd\n",
    "import numpy as np\n",
    "import os\n",
    "import shutil\n",
    "\n",
    "from selenium import webdriver\n",
    "\n",
    "from tqdm.notebook import tqdm\n",
    "\n",
    "import json\n",
    "from datetime import datetime"
   ]
  },
  {
   "cell_type": "markdown",
   "metadata": {},
   "source": [
    "# Getting video links from search page"
   ]
  },
  {
   "cell_type": "code",
   "execution_count": 2,
   "metadata": {},
   "outputs": [],
   "source": [
    "queries = ['machine+learning', 'kaggle', 'data+science']\n",
    "url = 'https://www.youtube.com/results?search_query={query}&sp=CAI%253D&p={page}'"
   ]
  },
  {
   "cell_type": "code",
   "execution_count": 5,
   "metadata": {},
   "outputs": [
    {
     "data": {
      "application/vnd.jupyter.widget-view+json": {
       "model_id": "96bedf61e46f4ea0ac15f1b7bd2697d7",
       "version_major": 2,
       "version_minor": 0
      },
      "text/plain": [
       "HBox(children=(FloatProgress(value=0.0, description='Pages for machine+learning', style=ProgressStyle(descript…"
      ]
     },
     "metadata": {},
     "output_type": "display_data"
    },
    {
     "name": "stdout",
     "output_type": "stream",
     "text": [
      "\n"
     ]
    },
    {
     "data": {
      "application/vnd.jupyter.widget-view+json": {
       "model_id": "d9e32fe315ba492ea193cc08af9e7c48",
       "version_major": 2,
       "version_minor": 0
      },
      "text/plain": [
       "HBox(children=(FloatProgress(value=0.0, description='Pages for kaggle', style=ProgressStyle(description_width=…"
      ]
     },
     "metadata": {},
     "output_type": "display_data"
    },
    {
     "name": "stdout",
     "output_type": "stream",
     "text": [
      "\n"
     ]
    },
    {
     "data": {
      "application/vnd.jupyter.widget-view+json": {
       "model_id": "aa6b3cca9ac646c48ae443ad6b8e1fda",
       "version_major": 2,
       "version_minor": 0
      },
      "text/plain": [
       "HBox(children=(FloatProgress(value=0.0, description='Pages for data+science', style=ProgressStyle(description_…"
      ]
     },
     "metadata": {},
     "output_type": "display_data"
    },
    {
     "name": "stdout",
     "output_type": "stream",
     "text": [
      "\n"
     ]
    }
   ],
   "source": [
    "# Create directory for raw data\n",
    "if os.path.isdir('dados_brutos'):\n",
    "    shutil.rmtree('dados_brutos')\n",
    "    \n",
    "os.mkdir('dados_brutos')\n",
    "\n",
    "curr_date = datetime.now().strftime('%Y_%m_%d_%H_%M_%S')\n",
    "\n",
    "# Get the source code from all pages\n",
    "for query in queries:\n",
    "    description = f'Pages for {query}'\n",
    "    \n",
    "    for page in tqdm(range(1, 101), desc=description):\n",
    "        urll = url.format(query=query, page=page)\n",
    "        \n",
    "        driver = webdriver.Firefox()\n",
    "        \n",
    "        driver.get(urll)\n",
    "        \n",
    "        # Get all video links\n",
    "        links = driver.find_elements_by_id('video-title')\n",
    "        \n",
    "        for link in links:\n",
    "            video_link = link.get_attribute('href')\n",
    "            title = link.get_attribute('title')\n",
    "                    \n",
    "            with open(f'dados_brutos/parsed_videos_{curr_date}.json', 'a+') as output:\n",
    "                data = {'link': video_link, 'title': title, 'query': query}\n",
    "                output.write('{}\\n'.format(json.dumps(data)))\n",
    "        \n",
    "        driver.quit()"
   ]
  },
  {
   "cell_type": "markdown",
   "metadata": {},
   "source": [
    "# Verifying obtained data"
   ]
  },
  {
   "cell_type": "code",
   "execution_count": 8,
   "metadata": {},
   "outputs": [],
   "source": [
    "df = pd.read_json('dados_brutos/parsed_videos_2020_09_25_18_37_50.json', lines=True)"
   ]
  },
  {
   "cell_type": "code",
   "execution_count": 9,
   "metadata": {},
   "outputs": [
    {
     "data": {
      "text/html": [
       "<div>\n",
       "<style scoped>\n",
       "    .dataframe tbody tr th:only-of-type {\n",
       "        vertical-align: middle;\n",
       "    }\n",
       "\n",
       "    .dataframe tbody tr th {\n",
       "        vertical-align: top;\n",
       "    }\n",
       "\n",
       "    .dataframe thead th {\n",
       "        text-align: right;\n",
       "    }\n",
       "</style>\n",
       "<table border=\"1\" class=\"dataframe\">\n",
       "  <thead>\n",
       "    <tr style=\"text-align: right;\">\n",
       "      <th></th>\n",
       "      <th>link</th>\n",
       "      <th>title</th>\n",
       "      <th>query</th>\n",
       "    </tr>\n",
       "  </thead>\n",
       "  <tbody>\n",
       "    <tr>\n",
       "      <th>0</th>\n",
       "      <td>https://www.youtube.com/watch?v=J3LHO1EKFuU</td>\n",
       "      <td>Colloquium Sept 24, 2020 -- Machine Learning f...</td>\n",
       "      <td>machine+learning</td>\n",
       "    </tr>\n",
       "    <tr>\n",
       "      <th>1</th>\n",
       "      <td>https://www.youtube.com/watch?v=x6PikWQQep0</td>\n",
       "      <td>Machine Learning in Sinhala | #7 - Reinforceme...</td>\n",
       "      <td>machine+learning</td>\n",
       "    </tr>\n",
       "    <tr>\n",
       "      <th>2</th>\n",
       "      <td>https://www.youtube.com/watch?v=9adr8as6qwg</td>\n",
       "      <td>Learn 𝗔𝗜, 𝗗𝗮𝘁𝗮 𝗦𝗰𝗶𝗲𝗻𝗰𝗲, 𝗠𝗮𝗰𝗵𝗶𝗻𝗲 𝗟𝗲𝗮𝗿𝗻𝗶𝗻𝗴 from ...</td>\n",
       "      <td>machine+learning</td>\n",
       "    </tr>\n",
       "    <tr>\n",
       "      <th>3</th>\n",
       "      <td>https://www.youtube.com/watch?v=WEJ65Rvj3lc</td>\n",
       "      <td>Reinforcement learning based dependency resolu...</td>\n",
       "      <td>machine+learning</td>\n",
       "    </tr>\n",
       "    <tr>\n",
       "      <th>4</th>\n",
       "      <td>https://www.youtube.com/watch?v=77hMmXZjpC8</td>\n",
       "      <td>Programming Languages, Software Engineering an...</td>\n",
       "      <td>machine+learning</td>\n",
       "    </tr>\n",
       "  </tbody>\n",
       "</table>\n",
       "</div>"
      ],
      "text/plain": [
       "                                          link  \\\n",
       "0  https://www.youtube.com/watch?v=J3LHO1EKFuU   \n",
       "1  https://www.youtube.com/watch?v=x6PikWQQep0   \n",
       "2  https://www.youtube.com/watch?v=9adr8as6qwg   \n",
       "3  https://www.youtube.com/watch?v=WEJ65Rvj3lc   \n",
       "4  https://www.youtube.com/watch?v=77hMmXZjpC8   \n",
       "\n",
       "                                               title             query  \n",
       "0  Colloquium Sept 24, 2020 -- Machine Learning f...  machine+learning  \n",
       "1  Machine Learning in Sinhala | #7 - Reinforceme...  machine+learning  \n",
       "2  Learn 𝗔𝗜, 𝗗𝗮𝘁𝗮 𝗦𝗰𝗶𝗲𝗻𝗰𝗲, 𝗠𝗮𝗰𝗵𝗶𝗻𝗲 𝗟𝗲𝗮𝗿𝗻𝗶𝗻𝗴 from ...  machine+learning  \n",
       "3  Reinforcement learning based dependency resolu...  machine+learning  \n",
       "4  Programming Languages, Software Engineering an...  machine+learning  "
      ]
     },
     "execution_count": 9,
     "metadata": {},
     "output_type": "execute_result"
    }
   ],
   "source": [
    "df.head()"
   ]
  }
 ],
 "metadata": {
  "kernelspec": {
   "display_name": "Python 3",
   "language": "python",
   "name": "python3"
  },
  "language_info": {
   "codemirror_mode": {
    "name": "ipython",
    "version": 3
   },
   "file_extension": ".py",
   "mimetype": "text/x-python",
   "name": "python",
   "nbconvert_exporter": "python",
   "pygments_lexer": "ipython3",
   "version": "3.8.3"
  }
 },
 "nbformat": 4,
 "nbformat_minor": 4
}
