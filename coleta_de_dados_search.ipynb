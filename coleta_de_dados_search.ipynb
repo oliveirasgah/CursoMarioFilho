{
 "cells": [
  {
   "cell_type": "code",
   "execution_count": 1,
   "metadata": {},
   "outputs": [],
   "source": [
    "import pandas as pd\n",
    "import numpy as np\n",
    "import os\n",
    "import shutil\n",
    "\n",
    "from selenium import webdriver\n",
    "\n",
    "from tqdm.notebook import tqdm\n",
    "\n",
    "import json\n",
    "from datetime import datetime"
   ]
  },
  {
   "cell_type": "markdown",
   "metadata": {},
   "source": [
    "# Getting video links from search page"
   ]
  },
  {
   "cell_type": "code",
   "execution_count": 2,
   "metadata": {},
   "outputs": [],
   "source": [
    "queries = ['machine+learning', 'kaggle', 'data+science']\n",
    "url = 'https://www.youtube.com/results?search_query={query}&sp=CAI%253D&p={page}'"
   ]
  },
  {
   "cell_type": "code",
   "execution_count": 3,
   "metadata": {},
   "outputs": [
    {
     "output_type": "display_data",
     "data": {
      "text/plain": "HBox(children=(FloatProgress(value=0.0, description='Pages for machine+learning', style=ProgressStyle(descript…",
      "application/vnd.jupyter.widget-view+json": {
       "version_major": 2,
       "version_minor": 0,
       "model_id": "c2d6cf80c4f84b58b07010e2983406d6"
      }
     },
     "metadata": {}
    },
    {
     "output_type": "stream",
     "name": "stdout",
     "text": [
      "\n"
     ]
    },
    {
     "output_type": "display_data",
     "data": {
      "text/plain": "HBox(children=(FloatProgress(value=0.0, description='Pages for kaggle', style=ProgressStyle(description_width=…",
      "application/vnd.jupyter.widget-view+json": {
       "version_major": 2,
       "version_minor": 0,
       "model_id": "65cfd32dd8864471bce27d31bf765ccf"
      }
     },
     "metadata": {}
    },
    {
     "output_type": "stream",
     "name": "stdout",
     "text": [
      "\n"
     ]
    },
    {
     "output_type": "display_data",
     "data": {
      "text/plain": "HBox(children=(FloatProgress(value=0.0, description='Pages for data+science', style=ProgressStyle(description_…",
      "application/vnd.jupyter.widget-view+json": {
       "version_major": 2,
       "version_minor": 0,
       "model_id": "b6d8ecfbd49f4e6e8bc69c28d23ae64a"
      }
     },
     "metadata": {}
    },
    {
     "output_type": "stream",
     "name": "stdout",
     "text": [
      "\n"
     ]
    }
   ],
   "source": [
    "# Create directory for raw data\n",
    "if os.path.isdir('dados_brutos'):\n",
    "    shutil.rmtree('dados_brutos')\n",
    "    \n",
    "os.mkdir('dados_brutos')\n",
    "\n",
    "curr_date = datetime.now().strftime('%Y_%m_%d_%H_%M_%S')\n",
    "\n",
    "# Get the source code from all pages\n",
    "for query in queries:\n",
    "    description = f'Pages for {query}'\n",
    "    \n",
    "    for page in tqdm(range(1, 101), desc=description):\n",
    "        urll = url.format(query=query, page=page)\n",
    "        \n",
    "        driver = webdriver.Firefox()\n",
    "        \n",
    "        driver.get(urll)\n",
    "        \n",
    "        # Get all video links\n",
    "        links = driver.find_elements_by_id('video-title')\n",
    "        \n",
    "        for link in links:\n",
    "            video_link = link.get_attribute('href')\n",
    "            title = link.get_attribute('title')\n",
    "                    \n",
    "            with open(f'dados_brutos/parsed_videos_{curr_date}.json', 'a+') as output:\n",
    "                data = {'link': video_link, 'title': title, 'query': query}\n",
    "                output.write('{}\\n'.format(json.dumps(data)))\n",
    "        \n",
    "        driver.quit()"
   ]
  },
  {
   "cell_type": "markdown",
   "metadata": {},
   "source": [
    "# Verifying obtained data"
   ]
  },
  {
   "cell_type": "code",
   "execution_count": 4,
   "metadata": {},
   "outputs": [],
   "source": [
    "df = pd.read_json('dados_brutos/parsed_videos_2020_10_15_20_24_29.json', lines=True)"
   ]
  },
  {
   "cell_type": "code",
   "execution_count": 5,
   "metadata": {},
   "outputs": [
    {
     "output_type": "execute_result",
     "data": {
      "text/plain": [
       "                                          link  \\\n",
       "0  https://www.youtube.com/watch?v=0CFl1ZRc5TI   \n",
       "1  https://www.youtube.com/watch?v=OCHbm88xUGU   \n",
       "2  https://www.youtube.com/watch?v=9_V7a_8-5k0   \n",
       "3  https://www.youtube.com/watch?v=M8ueP_I6jeo   \n",
       "4  https://www.youtube.com/watch?v=1ApEHKYR9Rg   \n",
       "\n",
       "                                               title             query  \n",
       "0                        Deep Learning - Lecture 1.2  machine+learning  \n",
       "1                        Deep Learning - Lecture 1.1  machine+learning  \n",
       "2  Bobby Samuel on Machine Learning and AI in Hea...  machine+learning  \n",
       "3  🤖 O que é Machine Learning? Quais impactos da ...  machine+learning  \n",
       "4        Practical Machine Learning Lecture 2 - 2020  machine+learning  "
      ],
      "text/html": "<div>\n<style scoped>\n    .dataframe tbody tr th:only-of-type {\n        vertical-align: middle;\n    }\n\n    .dataframe tbody tr th {\n        vertical-align: top;\n    }\n\n    .dataframe thead th {\n        text-align: right;\n    }\n</style>\n<table border=\"1\" class=\"dataframe\">\n  <thead>\n    <tr style=\"text-align: right;\">\n      <th></th>\n      <th>link</th>\n      <th>title</th>\n      <th>query</th>\n    </tr>\n  </thead>\n  <tbody>\n    <tr>\n      <th>0</th>\n      <td>https://www.youtube.com/watch?v=0CFl1ZRc5TI</td>\n      <td>Deep Learning - Lecture 1.2</td>\n      <td>machine+learning</td>\n    </tr>\n    <tr>\n      <th>1</th>\n      <td>https://www.youtube.com/watch?v=OCHbm88xUGU</td>\n      <td>Deep Learning - Lecture 1.1</td>\n      <td>machine+learning</td>\n    </tr>\n    <tr>\n      <th>2</th>\n      <td>https://www.youtube.com/watch?v=9_V7a_8-5k0</td>\n      <td>Bobby Samuel on Machine Learning and AI in Hea...</td>\n      <td>machine+learning</td>\n    </tr>\n    <tr>\n      <th>3</th>\n      <td>https://www.youtube.com/watch?v=M8ueP_I6jeo</td>\n      <td>🤖 O que é Machine Learning? Quais impactos da ...</td>\n      <td>machine+learning</td>\n    </tr>\n    <tr>\n      <th>4</th>\n      <td>https://www.youtube.com/watch?v=1ApEHKYR9Rg</td>\n      <td>Practical Machine Learning Lecture 2 - 2020</td>\n      <td>machine+learning</td>\n    </tr>\n  </tbody>\n</table>\n</div>"
     },
     "metadata": {},
     "execution_count": 5
    }
   ],
   "source": [
    "df.head()"
   ]
  }
 ],
 "metadata": {
  "kernelspec": {
   "display_name": "Python 3",
   "language": "python",
   "name": "python3"
  },
  "language_info": {
   "codemirror_mode": {
    "name": "ipython",
    "version": 3
   },
   "file_extension": ".py",
   "mimetype": "text/x-python",
   "name": "python",
   "nbconvert_exporter": "python",
   "pygments_lexer": "ipython3",
   "version": "3.8.3-final"
  }
 },
 "nbformat": 4,
 "nbformat_minor": 4
}