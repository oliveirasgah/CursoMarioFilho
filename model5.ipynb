{
 "cells": [
  {
   "cell_type": "code",
   "execution_count": 1,
   "id": "union-skating",
   "metadata": {},
   "outputs": [],
   "source": [
    "import pandas as pd\n",
    "import numpy as np\n",
    "\n",
    "pd.set_option('max.columns', 131)"
   ]
  },
  {
   "cell_type": "code",
   "execution_count": 2,
   "id": "billion-scroll",
   "metadata": {},
   "outputs": [],
   "source": [
    "df = pd.read_csv('full_labels.csv').dropna(subset=['y'])"
   ]
  },
  {
   "cell_type": "code",
   "execution_count": 3,
   "id": "central-incident",
   "metadata": {},
   "outputs": [],
   "source": [
    "from sklearn.linear_model import LogisticRegression\n",
    "from sklearn.ensemble import RandomForestClassifier"
   ]
  },
  {
   "cell_type": "code",
   "execution_count": 4,
   "id": "twelve-berry",
   "metadata": {},
   "outputs": [],
   "source": [
    "df_limpo = pd.DataFrame(index=df.index)\n",
    "df_limpo['title'] = df['title']"
   ]
  },
  {
   "cell_type": "code",
   "execution_count": 5,
   "id": "fundamental-folks",
   "metadata": {},
   "outputs": [
    {
     "name": "stdout",
     "output_type": "stream",
     "text": [
      "<class 'pandas.core.frame.DataFrame'>\n",
      "Int64Index: 297 entries, 0 to 296\n",
      "Data columns (total 4 columns):\n",
      " #   Column       Non-Null Count  Dtype         \n",
      "---  ------       --------------  -----         \n",
      " 0   title        297 non-null    object        \n",
      " 1   upload_date  297 non-null    datetime64[ns]\n",
      " 2   view_count   297 non-null    int64         \n",
      " 3   y            297 non-null    int64         \n",
      "dtypes: datetime64[ns](1), int64(2), object(1)\n",
      "memory usage: 11.6+ KB\n"
     ]
    }
   ],
   "source": [
    "df['upload_date'] = pd.to_datetime(df['upload_date'], format='%Y-%m-%d')\n",
    "df['view_count'] = df['view_count'].astype(int)\n",
    "df_limpo = df.copy()\n",
    "df_limpo.info()"
   ]
  },
  {
   "cell_type": "code",
   "execution_count": 6,
   "id": "informational-victorian",
   "metadata": {},
   "outputs": [],
   "source": [
    "features = pd.DataFrame(index=df_limpo.index)\n",
    "y = df['y'].copy()"
   ]
  },
  {
   "cell_type": "code",
   "execution_count": 7,
   "id": "outside-aviation",
   "metadata": {},
   "outputs": [],
   "source": [
    "features['tempo_desde_pub'] = (pd.to_datetime('2021-01-31') - df_limpo['upload_date']) / np.timedelta64(1, 'D')\n",
    "features['views'] = df_limpo['view_count']\n",
    "features['views_por_dia'] = features['views'] / features['tempo_desde_pub']\n",
    "features = features.drop(['tempo_desde_pub'], axis=1)"
   ]
  },
  {
   "cell_type": "code",
   "execution_count": 8,
   "id": "above-visiting",
   "metadata": {},
   "outputs": [
    {
     "data": {
      "text/plain": [
       "((140, 2), (157, 2), (140,), (157,))"
      ]
     },
     "execution_count": 8,
     "metadata": {},
     "output_type": "execute_result"
    }
   ],
   "source": [
    "Xtrain, Xval = features.iloc[:140], features.iloc[140:]\n",
    "ytrain, yval = y.iloc[:140], y.iloc[140:]\n",
    "Xtrain.shape, Xval.shape, ytrain.shape, yval.shape"
   ]
  },
  {
   "cell_type": "code",
   "execution_count": 9,
   "id": "little-progressive",
   "metadata": {},
   "outputs": [],
   "source": [
    "from sklearn.feature_extraction.text import TfidfVectorizer\n",
    "\n",
    "title_train = df_limpo.iloc[:140]['title']\n",
    "title_val = df_limpo.iloc[140:]['title']\n",
    "\n",
    "title_vec = TfidfVectorizer(min_df=1, ngram_range=(1, 3))\n",
    "title_bow_train = title_vec.fit_transform(title_train)\n",
    "title_bow_val = title_vec.transform(title_val)"
   ]
  },
  {
   "cell_type": "code",
   "execution_count": 10,
   "id": "muslim-catch",
   "metadata": {},
   "outputs": [],
   "source": [
    "from scipy.sparse import hstack\n",
    "\n",
    "Xtrain_wtitle = hstack([Xtrain, title_bow_train])\n",
    "Xval_wtitle = hstack([Xval, title_bow_val])"
   ]
  },
  {
   "cell_type": "markdown",
   "id": "varied-hampton",
   "metadata": {},
   "source": [
    "# RF"
   ]
  },
  {
   "cell_type": "code",
   "execution_count": 11,
   "id": "protective-election",
   "metadata": {},
   "outputs": [
    {
     "data": {
      "text/plain": [
       "RandomForestClassifier(class_weight='balanced', n_estimators=1000, n_jobs=3,\n",
       "                       random_state=0)"
      ]
     },
     "execution_count": 11,
     "metadata": {},
     "output_type": "execute_result"
    }
   ],
   "source": [
    "mdl_rf = RandomForestClassifier(n_estimators=1000, random_state=0, min_samples_leaf=1, class_weight='balanced', n_jobs=3)\n",
    "mdl_rf.fit(Xtrain_wtitle, ytrain)"
   ]
  },
  {
   "cell_type": "code",
   "execution_count": 12,
   "id": "structural-amber",
   "metadata": {},
   "outputs": [],
   "source": [
    "p_rf = mdl_rf.predict_proba(Xval_wtitle)[:, 1]"
   ]
  },
  {
   "cell_type": "code",
   "execution_count": 13,
   "id": "intellectual-judges",
   "metadata": {},
   "outputs": [],
   "source": [
    "def print_model_report(y, p):\n",
    "    from sklearn.metrics import average_precision_score, roc_auc_score\n",
    "    \n",
    "    print(f'ap={average_precision_score(y, p)}, auc={roc_auc_score(y, p)}')"
   ]
  },
  {
   "cell_type": "code",
   "execution_count": 14,
   "id": "pleasant-cutting",
   "metadata": {},
   "outputs": [
    {
     "name": "stdout",
     "output_type": "stream",
     "text": [
      "ap=0.4542962326968974, auc=0.5905475397706252\n"
     ]
    }
   ],
   "source": [
    "print_model_report(yval, p_rf)"
   ]
  },
  {
   "cell_type": "markdown",
   "id": "verbal-advertiser",
   "metadata": {},
   "source": [
    "# LGBM"
   ]
  },
  {
   "cell_type": "code",
   "execution_count": 39,
   "id": "parallel-cholesterol",
   "metadata": {},
   "outputs": [],
   "source": [
    "params = [0.009755989568690922, 10, 20, 0.5494659592684037, 0.36790569530401346, 436, 4, 3]\n",
    "\n",
    "lr = params[0]\n",
    "max_depth = params[1]\n",
    "min_child_samples = params[2]\n",
    "subsample = params[3]\n",
    "colsample_bytree = params[4]\n",
    "n_estimators = params[5]\n",
    "min_df = params[6]\n",
    "ngram_range = (1, params[7])"
   ]
  },
  {
   "cell_type": "code",
   "execution_count": 40,
   "id": "adequate-thumb",
   "metadata": {},
   "outputs": [],
   "source": [
    "title_vec = TfidfVectorizer(min_df=min_df, ngram_range=ngram_range)\n",
    "title_bow_train = title_vec.fit_transform(title_train)\n",
    "title_bow_val = title_vec.transform(title_val)\n",
    "\n",
    "Xtrain_wtitle = hstack([Xtrain, title_bow_train])\n",
    "Xval_wtitle = hstack([Xval, title_bow_val])"
   ]
  },
  {
   "cell_type": "code",
   "execution_count": 41,
   "id": "monthly-traffic",
   "metadata": {},
   "outputs": [],
   "source": [
    "from lightgbm import LGBMClassifier"
   ]
  },
  {
   "cell_type": "code",
   "execution_count": 42,
   "id": "random-disposition",
   "metadata": {},
   "outputs": [
    {
     "name": "stdout",
     "output_type": "stream",
     "text": [
      "[LightGBM] [Warning] bagging_freq is set=1, subsample_freq=0 will be ignored. Current value: bagging_freq=1\n"
     ]
    },
    {
     "data": {
      "text/plain": [
       "LGBMClassifier(bagging_freq=1, class_weight='balanced',\n",
       "               colsample_bytree=0.36790569530401346,\n",
       "               learning_rate=0.009755989568690922, max_depth=10,\n",
       "               n_estimators=436, n_jobs=3, num_leaves=1024, random_state=0,\n",
       "               subsample=0.5494659592684037)"
      ]
     },
     "execution_count": 42,
     "metadata": {},
     "output_type": "execute_result"
    }
   ],
   "source": [
    "mdl_lgbm = LGBMClassifier(\n",
    "    learning_rate=lr,\n",
    "    num_leaves=2 ** max_depth,\n",
    "    max_depth=max_depth,\n",
    "    min_child_samples=min_child_samples,\n",
    "    subsample=subsample,\n",
    "    colsample_bytree=colsample_bytree,\n",
    "    bagging_freq=1,\n",
    "    n_estimators=n_estimators,\n",
    "    random_state=0,\n",
    "    class_weight='balanced',\n",
    "    n_jobs=3\n",
    ")\n",
    "\n",
    "mdl_lgbm.fit(Xtrain_wtitle, ytrain)"
   ]
  },
  {
   "cell_type": "code",
   "execution_count": 43,
   "id": "adaptive-hormone",
   "metadata": {},
   "outputs": [
    {
     "name": "stderr",
     "output_type": "stream",
     "text": [
      "/home/gabriel/.anaconda3/lib/python3.8/site-packages/lightgbm/basic.py:597: UserWarning: Converting data to scipy sparse matrix.\n",
      "  warnings.warn('Converting data to scipy sparse matrix.')\n"
     ]
    }
   ],
   "source": [
    "p_lgbm = mdl_lgbm.predict_proba(Xval_wtitle)[:, 1]"
   ]
  },
  {
   "cell_type": "code",
   "execution_count": 44,
   "id": "liquid-kitty",
   "metadata": {},
   "outputs": [
    {
     "name": "stdout",
     "output_type": "stream",
     "text": [
      "ap=0.3400320967919441, auc=0.5215501294857566\n"
     ]
    }
   ],
   "source": [
    "print_model_report(yval, p_lgbm)"
   ]
  },
  {
   "cell_type": "markdown",
   "id": "frozen-oliver",
   "metadata": {},
   "source": [
    "# LR"
   ]
  },
  {
   "cell_type": "code",
   "execution_count": 45,
   "id": "sharing-mount",
   "metadata": {},
   "outputs": [],
   "source": [
    "from sklearn.pipeline import make_pipeline\n",
    "from sklearn.preprocessing import MaxAbsScaler\n",
    "from sklearn.linear_model import LogisticRegression\n",
    "from scipy.sparse import csr_matrix"
   ]
  },
  {
   "cell_type": "code",
   "execution_count": 46,
   "id": "nervous-means",
   "metadata": {},
   "outputs": [
    {
     "data": {
      "text/plain": [
       "Pipeline(steps=[('maxabsscaler', MaxAbsScaler()),\n",
       "                ('logisticregression',\n",
       "                 LogisticRegression(C=0.5, n_jobs=3, random_state=0))])"
      ]
     },
     "execution_count": 46,
     "metadata": {},
     "output_type": "execute_result"
    }
   ],
   "source": [
    "Xtrain_wtitle2 = csr_matrix(Xtrain_wtitle.copy())\n",
    "Xval_wtitle2 = csr_matrix(Xval_wtitle.copy())\n",
    "\n",
    "lr_pipeline = make_pipeline(MaxAbsScaler(), LogisticRegression(C=.5, penalty='l2', n_jobs=3, random_state=0))\n",
    "lr_pipeline.fit(Xtrain_wtitle2, ytrain)"
   ]
  },
  {
   "cell_type": "code",
   "execution_count": 47,
   "id": "curious-railway",
   "metadata": {},
   "outputs": [],
   "source": [
    "p_lr = lr_pipeline.predict_proba(Xval_wtitle2)[:, 1]"
   ]
  },
  {
   "cell_type": "code",
   "execution_count": 48,
   "id": "broken-rolling",
   "metadata": {},
   "outputs": [
    {
     "name": "stdout",
     "output_type": "stream",
     "text": [
      "ap=0.3878852654115604, auc=0.5321864594894561\n"
     ]
    }
   ],
   "source": [
    "print_model_report(yval, p_lr)"
   ]
  },
  {
   "cell_type": "markdown",
   "id": "favorite-polls",
   "metadata": {},
   "source": [
    "# Ensemble"
   ]
  },
  {
   "cell_type": "code",
   "execution_count": 49,
   "id": "intelligent-stylus",
   "metadata": {},
   "outputs": [
    {
     "name": "stdout",
     "output_type": "stream",
     "text": [
      "ap=0.41435840875809893, auc=0.5675175730669626\n"
     ]
    }
   ],
   "source": [
    "p = (p_lr * p_rf * p_lgbm) / 3\n",
    "print_model_report(yval, p)"
   ]
  },
  {
   "cell_type": "code",
   "execution_count": 50,
   "id": "scientific-street",
   "metadata": {},
   "outputs": [
    {
     "data": {
      "text/html": [
       "<div>\n",
       "<style scoped>\n",
       "    .dataframe tbody tr th:only-of-type {\n",
       "        vertical-align: middle;\n",
       "    }\n",
       "\n",
       "    .dataframe tbody tr th {\n",
       "        vertical-align: top;\n",
       "    }\n",
       "\n",
       "    .dataframe thead th {\n",
       "        text-align: right;\n",
       "    }\n",
       "</style>\n",
       "<table border=\"1\" class=\"dataframe\">\n",
       "  <thead>\n",
       "    <tr style=\"text-align: right;\">\n",
       "      <th></th>\n",
       "      <th>LR</th>\n",
       "      <th>RF</th>\n",
       "      <th>LGBM</th>\n",
       "    </tr>\n",
       "  </thead>\n",
       "  <tbody>\n",
       "    <tr>\n",
       "      <th>LR</th>\n",
       "      <td>1.000000</td>\n",
       "      <td>0.761376</td>\n",
       "      <td>0.781693</td>\n",
       "    </tr>\n",
       "    <tr>\n",
       "      <th>RF</th>\n",
       "      <td>0.761376</td>\n",
       "      <td>1.000000</td>\n",
       "      <td>0.752637</td>\n",
       "    </tr>\n",
       "    <tr>\n",
       "      <th>LGBM</th>\n",
       "      <td>0.781693</td>\n",
       "      <td>0.752637</td>\n",
       "      <td>1.000000</td>\n",
       "    </tr>\n",
       "  </tbody>\n",
       "</table>\n",
       "</div>"
      ],
      "text/plain": [
       "            LR        RF      LGBM\n",
       "LR    1.000000  0.761376  0.781693\n",
       "RF    0.761376  1.000000  0.752637\n",
       "LGBM  0.781693  0.752637  1.000000"
      ]
     },
     "execution_count": 50,
     "metadata": {},
     "output_type": "execute_result"
    }
   ],
   "source": [
    "pd.DataFrame({'LR': p_lr, 'RF': p_rf, 'LGBM': p_lgbm}).corr()"
   ]
  },
  {
   "cell_type": "code",
   "execution_count": 51,
   "id": "loaded-athletics",
   "metadata": {},
   "outputs": [
    {
     "name": "stdout",
     "output_type": "stream",
     "text": [
      "ap=0.45691285288303696, auc=0.5835183129855716\n"
     ]
    }
   ],
   "source": [
    "p = 0.7*p_rf + 0.3*p_lgbm\n",
    "print_model_report(yval, p)"
   ]
  },
  {
   "cell_type": "raw",
   "id": "silent-editor",
   "metadata": {},
   "source": [
    "ap=0.4069511159442063, auc=0.5598409174990752 - 0.5/0.5\n",
    "ap=0.43666362764201966, auc=0.5711246762856086 - 0.6/0.4\n",
    "ap=0.4567287105964868, auc=0.5835183129855716 - 0.7/0.3\n",
    "ap=0.4649176770227961, auc=0.5888827229004809 - 0.8/0.2 - LIMITE\n",
    "ap=0.4600598365721651, auc=0.5899926008139105 - 0.9/0.1"
   ]
  },
  {
   "cell_type": "markdown",
   "id": "broken-manitoba",
   "metadata": {},
   "source": [
    "# Salvando o modelo"
   ]
  },
  {
   "cell_type": "code",
   "execution_count": 52,
   "id": "realistic-proof",
   "metadata": {},
   "outputs": [],
   "source": [
    "import joblib as jb"
   ]
  },
  {
   "cell_type": "code",
   "execution_count": 53,
   "id": "front-metro",
   "metadata": {},
   "outputs": [
    {
     "data": {
      "text/plain": [
       "['title_vectorizer_20210301.pkl.z']"
      ]
     },
     "execution_count": 53,
     "metadata": {},
     "output_type": "execute_result"
    }
   ],
   "source": [
    "jb.dump(mdl_lgbm, \"lgbm_20210301.pkl.z\")\n",
    "jb.dump(mdl_rf, \"random_forest_20210301.pkl.z\")\n",
    "jb.dump(lr_pipeline, \"logistic_reg_20210301.pkl.z\")\n",
    "jb.dump(title_vec, \"title_vectorizer_20210301.pkl.z\")"
   ]
  }
 ],
 "metadata": {
  "kernelspec": {
   "display_name": "Python 3",
   "language": "python",
   "name": "python3"
  },
  "language_info": {
   "codemirror_mode": {
    "name": "ipython",
    "version": 3
   },
   "file_extension": ".py",
   "mimetype": "text/x-python",
   "name": "python",
   "nbconvert_exporter": "python",
   "pygments_lexer": "ipython3",
   "version": "3.8.8"
  }
 },
 "nbformat": 4,
 "nbformat_minor": 5
}
