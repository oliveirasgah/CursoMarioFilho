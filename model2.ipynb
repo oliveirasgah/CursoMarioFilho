{
 "cells": [
  {
   "cell_type": "code",
   "execution_count": 1,
   "metadata": {},
   "outputs": [],
   "source": [
    "import pandas as pd\n",
    "import numpy as np\n",
    "import re\n",
    "import time\n",
    "\n",
    "pd.set_option('max.columns', 131)"
   ]
  },
  {
   "cell_type": "code",
   "execution_count": 2,
   "metadata": {},
   "outputs": [
    {
     "data": {
      "text/plain": [
       "(91, 4)"
      ]
     },
     "execution_count": 2,
     "metadata": {},
     "output_type": "execute_result"
    }
   ],
   "source": [
    "df = pd.read_csv('raw_data_with_labels.csv')\n",
    "df = df[df['y'].notnull()]\n",
    "df.shape"
   ]
  },
  {
   "cell_type": "code",
   "execution_count": 3,
   "metadata": {},
   "outputs": [],
   "source": [
    "from sklearn.linear_model import LogisticRegression\n",
    "from sklearn.ensemble import RandomForestClassifier"
   ]
  },
  {
   "cell_type": "code",
   "execution_count": 4,
   "metadata": {},
   "outputs": [],
   "source": [
    "df_limpo = pd.DataFrame(index=df.index)\n",
    "df_limpo['title'] = df['title']"
   ]
  },
  {
   "cell_type": "code",
   "execution_count": 5,
   "metadata": {},
   "outputs": [
    {
     "name": "stdout",
     "output_type": "stream",
     "text": [
      "<class 'pandas.core.frame.DataFrame'>\n",
      "Int64Index: 91 entries, 0 to 231\n",
      "Data columns (total 4 columns):\n",
      " #   Column       Non-Null Count  Dtype         \n",
      "---  ------       --------------  -----         \n",
      " 0   title        91 non-null     object        \n",
      " 1   upload_date  91 non-null     datetime64[ns]\n",
      " 2   view_count   91 non-null     int64         \n",
      " 3   y            91 non-null     float64       \n",
      "dtypes: datetime64[ns](1), float64(1), int64(1), object(1)\n",
      "memory usage: 3.6+ KB\n"
     ]
    }
   ],
   "source": [
    "df['upload_date'] = pd.to_datetime(df['upload_date'], format='%Y-%m-%d')\n",
    "df['view_count'] = df['view_count'].astype(int)\n",
    "df_limpo = df.copy()\n",
    "df_limpo.info()"
   ]
  },
  {
   "cell_type": "code",
   "execution_count": 6,
   "metadata": {},
   "outputs": [],
   "source": [
    "features = pd.DataFrame(index=df_limpo.index)\n",
    "y = df['y'].copy()"
   ]
  },
  {
   "cell_type": "code",
   "execution_count": 7,
   "metadata": {},
   "outputs": [],
   "source": [
    "features['tempo_desde_pub'] = (pd.to_datetime('2021-01-31') - df_limpo['upload_date']) / np.timedelta64(1, 'D')\n",
    "features['views'] = df_limpo['view_count']\n",
    "features['views_por_dia'] = features['views'] / features['tempo_desde_pub']\n",
    "features = features.drop(['tempo_desde_pub'], axis=1)"
   ]
  },
  {
   "cell_type": "code",
   "execution_count": 8,
   "metadata": {},
   "outputs": [
    {
     "data": {
      "text/plain": [
       "((45, 2), (46, 2), (45,), (46,))"
      ]
     },
     "execution_count": 8,
     "metadata": {},
     "output_type": "execute_result"
    }
   ],
   "source": [
    "Xtrain, Xval = features.iloc[:45], features.iloc[45:]\n",
    "ytrain, yval = y.iloc[:45], y.iloc[45:]\n",
    "Xtrain.shape, Xval.shape, ytrain.shape, yval.shape"
   ]
  },
  {
   "cell_type": "code",
   "execution_count": 9,
   "metadata": {},
   "outputs": [],
   "source": [
    "from sklearn.feature_extraction.text import TfidfVectorizer\n",
    "\n",
    "title_train = df_limpo.iloc[:45]['title']\n",
    "title_val = df_limpo.iloc[45:]['title']\n",
    "\n",
    "title_vec = TfidfVectorizer(min_df=2)\n",
    "title_bow_train = title_vec.fit_transform(title_train)\n",
    "title_bow_val = title_vec.transform(title_val)"
   ]
  },
  {
   "cell_type": "code",
   "execution_count": 10,
   "metadata": {},
   "outputs": [
    {
     "data": {
      "text/plain": [
       "(45, 44)"
      ]
     },
     "execution_count": 10,
     "metadata": {},
     "output_type": "execute_result"
    }
   ],
   "source": [
    "title_bow_train.shape"
   ]
  },
  {
   "cell_type": "code",
   "execution_count": 11,
   "metadata": {},
   "outputs": [],
   "source": [
    "from scipy.sparse import hstack\n",
    "\n",
    "Xtrain_wtitle = hstack([Xtrain, title_bow_train])\n",
    "Xval_wtitle = hstack([Xval, title_bow_val])"
   ]
  },
  {
   "cell_type": "code",
   "execution_count": 12,
   "metadata": {},
   "outputs": [
    {
     "data": {
      "text/plain": [
       "RandomForestClassifier(class_weight='balanced', n_estimators=1000, n_jobs=3,\n",
       "                       random_state=0)"
      ]
     },
     "execution_count": 12,
     "metadata": {},
     "output_type": "execute_result"
    }
   ],
   "source": [
    "mdl = RandomForestClassifier(n_estimators=1000, random_state=0, class_weight='balanced', n_jobs=3)\n",
    "mdl.fit(Xtrain_wtitle, ytrain)"
   ]
  },
  {
   "cell_type": "code",
   "execution_count": 13,
   "metadata": {},
   "outputs": [],
   "source": [
    "p = mdl.predict_proba(Xval_wtitle)[:, 1]"
   ]
  },
  {
   "cell_type": "code",
   "execution_count": 14,
   "metadata": {},
   "outputs": [],
   "source": [
    "from sklearn.metrics import roc_auc_score, average_precision_score"
   ]
  },
  {
   "cell_type": "code",
   "execution_count": 15,
   "metadata": {},
   "outputs": [
    {
     "data": {
      "text/plain": [
       "0.41925805072356803"
      ]
     },
     "execution_count": 15,
     "metadata": {},
     "output_type": "execute_result"
    }
   ],
   "source": [
    "average_precision_score(yval, p)"
   ]
  },
  {
   "cell_type": "code",
   "execution_count": 16,
   "metadata": {},
   "outputs": [
    {
     "data": {
      "text/plain": [
       "0.45039682539682546"
      ]
     },
     "execution_count": 16,
     "metadata": {},
     "output_type": "execute_result"
    }
   ],
   "source": [
    "roc_auc_score(yval, p)"
   ]
  },
  {
   "cell_type": "markdown",
   "metadata": {},
   "source": [
    "# Active Learning"
   ]
  },
  {
   "cell_type": "code",
   "execution_count": 17,
   "metadata": {},
   "outputs": [
    {
     "data": {
      "text/plain": [
       "(209, 4)"
      ]
     },
     "execution_count": 17,
     "metadata": {},
     "output_type": "execute_result"
    }
   ],
   "source": [
    "df_unlabeled = pd.read_csv('raw_data_with_labels.csv')\n",
    "df_unlabeled = df_unlabeled[df_unlabeled['y'].isnull()].dropna(how='all')\n",
    "df_unlabeled.shape"
   ]
  },
  {
   "cell_type": "code",
   "execution_count": 18,
   "metadata": {},
   "outputs": [],
   "source": [
    "df_unlabeled = df_unlabeled[df_unlabeled['upload_date'].notnull()]\n",
    "df_unlabeled = df_unlabeled[df_unlabeled['view_count'].notnull()]"
   ]
  },
  {
   "cell_type": "code",
   "execution_count": 19,
   "metadata": {},
   "outputs": [
    {
     "data": {
      "text/html": [
       "<div>\n",
       "<style scoped>\n",
       "    .dataframe tbody tr th:only-of-type {\n",
       "        vertical-align: middle;\n",
       "    }\n",
       "\n",
       "    .dataframe tbody tr th {\n",
       "        vertical-align: top;\n",
       "    }\n",
       "\n",
       "    .dataframe thead th {\n",
       "        text-align: right;\n",
       "    }\n",
       "</style>\n",
       "<table border=\"1\" class=\"dataframe\">\n",
       "  <thead>\n",
       "    <tr style=\"text-align: right;\">\n",
       "      <th></th>\n",
       "      <th>title</th>\n",
       "      <th>upload_date</th>\n",
       "      <th>view_count</th>\n",
       "      <th>y</th>\n",
       "    </tr>\n",
       "  </thead>\n",
       "  <tbody>\n",
       "    <tr>\n",
       "      <th>29</th>\n",
       "      <td>Hacker News | New Machine Learning Model predi...</td>\n",
       "      <td>2021-01-29</td>\n",
       "      <td>3.0</td>\n",
       "      <td>NaN</td>\n",
       "    </tr>\n",
       "  </tbody>\n",
       "</table>\n",
       "</div>"
      ],
      "text/plain": [
       "                                                title upload_date  view_count  \\\n",
       "29  Hacker News | New Machine Learning Model predi...  2021-01-29         3.0   \n",
       "\n",
       "     y  \n",
       "29 NaN  "
      ]
     },
     "execution_count": 19,
     "metadata": {},
     "output_type": "execute_result"
    }
   ],
   "source": [
    "df_unlabeled.head(1)"
   ]
  },
  {
   "cell_type": "code",
   "execution_count": 20,
   "metadata": {},
   "outputs": [],
   "source": [
    "df_limpo_u = pd.DataFrame(index=df_unlabeled.index)\n",
    "df_limpo_u['title'] = df_unlabeled['title']"
   ]
  },
  {
   "cell_type": "code",
   "execution_count": 21,
   "metadata": {},
   "outputs": [
    {
     "name": "stdout",
     "output_type": "stream",
     "text": [
      "<class 'pandas.core.frame.DataFrame'>\n",
      "Int64Index: 208 entries, 29 to 299\n",
      "Data columns (total 4 columns):\n",
      " #   Column       Non-Null Count  Dtype         \n",
      "---  ------       --------------  -----         \n",
      " 0   title        208 non-null    object        \n",
      " 1   upload_date  208 non-null    datetime64[ns]\n",
      " 2   view_count   208 non-null    int64         \n",
      " 3   y            0 non-null      float64       \n",
      "dtypes: datetime64[ns](1), float64(1), int64(1), object(1)\n",
      "memory usage: 8.1+ KB\n"
     ]
    }
   ],
   "source": [
    "df_unlabeled['upload_date'] = pd.to_datetime(df_unlabeled['upload_date'], format='%Y-%m-%d')\n",
    "df_unlabeled['view_count'] = df_unlabeled['view_count'].astype(int)\n",
    "df_limpo_u = df_unlabeled.copy()\n",
    "df_limpo_u.info()"
   ]
  },
  {
   "cell_type": "code",
   "execution_count": 27,
   "metadata": {},
   "outputs": [],
   "source": [
    "features_u = pd.DataFrame(index=df_limpo_u.index)"
   ]
  },
  {
   "cell_type": "code",
   "execution_count": 28,
   "metadata": {},
   "outputs": [],
   "source": [
    "features_u['tempo_desde_pub'] = (pd.to_datetime('2021-01-31') - df_limpo_u['upload_date']) / np.timedelta64(1, 'D')\n",
    "features_u['views'] = df_limpo_u['view_count']\n",
    "features_u['views_por_dia'] = features_u['views'] / features_u['tempo_desde_pub']\n",
    "features_u = features_u.drop(['tempo_desde_pub'], axis=1)"
   ]
  },
  {
   "cell_type": "code",
   "execution_count": 29,
   "metadata": {},
   "outputs": [],
   "source": [
    "title_u = df_limpo_u['title']\n",
    "title_bow_u = title_vec.transform(title_u)"
   ]
  },
  {
   "cell_type": "code",
   "execution_count": 30,
   "metadata": {},
   "outputs": [
    {
     "data": {
      "text/plain": [
       "<208x44 sparse matrix of type '<class 'numpy.float64'>'\n",
       "\twith 652 stored elements in Compressed Sparse Row format>"
      ]
     },
     "execution_count": 30,
     "metadata": {},
     "output_type": "execute_result"
    }
   ],
   "source": [
    "title_bow_u"
   ]
  },
  {
   "cell_type": "code",
   "execution_count": 31,
   "metadata": {},
   "outputs": [
    {
     "data": {
      "text/plain": [
       "<208x46 sparse matrix of type '<class 'numpy.float64'>'\n",
       "\twith 1056 stored elements in COOrdinate format>"
      ]
     },
     "execution_count": 31,
     "metadata": {},
     "output_type": "execute_result"
    }
   ],
   "source": [
    "Xu_wtitle = hstack([features_u, title_bow_u])\n",
    "Xu_wtitle"
   ]
  },
  {
   "cell_type": "code",
   "execution_count": 33,
   "metadata": {},
   "outputs": [
    {
     "data": {
      "text/html": [
       "<div>\n",
       "<style scoped>\n",
       "    .dataframe tbody tr th:only-of-type {\n",
       "        vertical-align: middle;\n",
       "    }\n",
       "\n",
       "    .dataframe tbody tr th {\n",
       "        vertical-align: top;\n",
       "    }\n",
       "\n",
       "    .dataframe thead th {\n",
       "        text-align: right;\n",
       "    }\n",
       "</style>\n",
       "<table border=\"1\" class=\"dataframe\">\n",
       "  <thead>\n",
       "    <tr style=\"text-align: right;\">\n",
       "      <th></th>\n",
       "      <th>title</th>\n",
       "      <th>upload_date</th>\n",
       "      <th>view_count</th>\n",
       "      <th>y</th>\n",
       "      <th>p</th>\n",
       "    </tr>\n",
       "  </thead>\n",
       "  <tbody>\n",
       "    <tr>\n",
       "      <th>29</th>\n",
       "      <td>Hacker News | New Machine Learning Model predi...</td>\n",
       "      <td>2021-01-29</td>\n",
       "      <td>3</td>\n",
       "      <td>NaN</td>\n",
       "      <td>0.047</td>\n",
       "    </tr>\n",
       "  </tbody>\n",
       "</table>\n",
       "</div>"
      ],
      "text/plain": [
       "                                                title upload_date  view_count  \\\n",
       "29  Hacker News | New Machine Learning Model predi...  2021-01-29           3   \n",
       "\n",
       "     y      p  \n",
       "29 NaN  0.047  "
      ]
     },
     "execution_count": 33,
     "metadata": {},
     "output_type": "execute_result"
    }
   ],
   "source": [
    "pu = mdl.predict_proba(Xu_wtitle)[:, 1]\n",
    "df_unlabeled['p'] = pu\n",
    "df_unlabeled.head(1)"
   ]
  },
  {
   "cell_type": "code",
   "execution_count": 36,
   "metadata": {},
   "outputs": [
    {
     "data": {
      "text/plain": [
       "71"
      ]
     },
     "execution_count": 36,
     "metadata": {},
     "output_type": "execute_result"
    }
   ],
   "source": [
    "mask_u = (df_unlabeled['p'] >= .4) & (df_unlabeled['p'] <= .60)\n",
    "mask_u.sum()"
   ]
  },
  {
   "cell_type": "code",
   "execution_count": 37,
   "metadata": {},
   "outputs": [
    {
     "data": {
      "text/html": [
       "<div>\n",
       "<style scoped>\n",
       "    .dataframe tbody tr th:only-of-type {\n",
       "        vertical-align: middle;\n",
       "    }\n",
       "\n",
       "    .dataframe tbody tr th {\n",
       "        vertical-align: top;\n",
       "    }\n",
       "\n",
       "    .dataframe thead th {\n",
       "        text-align: right;\n",
       "    }\n",
       "</style>\n",
       "<table border=\"1\" class=\"dataframe\">\n",
       "  <thead>\n",
       "    <tr style=\"text-align: right;\">\n",
       "      <th></th>\n",
       "      <th>title</th>\n",
       "      <th>upload_date</th>\n",
       "      <th>view_count</th>\n",
       "      <th>y</th>\n",
       "      <th>p</th>\n",
       "    </tr>\n",
       "  </thead>\n",
       "  <tbody>\n",
       "    <tr>\n",
       "      <th>45</th>\n",
       "      <td>Deep Learning at Scale with Horovod feat. Trav...</td>\n",
       "      <td>2021-01-28</td>\n",
       "      <td>149</td>\n",
       "      <td>NaN</td>\n",
       "      <td>0.404861</td>\n",
       "    </tr>\n",
       "    <tr>\n",
       "      <th>49</th>\n",
       "      <td>Sustainability, Machine Learning, AR/VR and 5G...</td>\n",
       "      <td>2021-01-28</td>\n",
       "      <td>7</td>\n",
       "      <td>NaN</td>\n",
       "      <td>0.481622</td>\n",
       "    </tr>\n",
       "    <tr>\n",
       "      <th>53</th>\n",
       "      <td>How to Deploy Machine Learning Models using Po...</td>\n",
       "      <td>2021-01-28</td>\n",
       "      <td>339</td>\n",
       "      <td>NaN</td>\n",
       "      <td>0.404000</td>\n",
       "    </tr>\n",
       "    <tr>\n",
       "      <th>59</th>\n",
       "      <td>Flutter iOS &amp; Android Object Detection with Te...</td>\n",
       "      <td>2021-01-28</td>\n",
       "      <td>1643</td>\n",
       "      <td>NaN</td>\n",
       "      <td>0.409452</td>\n",
       "    </tr>\n",
       "    <tr>\n",
       "      <th>66</th>\n",
       "      <td>Machine Learning for the Environment - Mining ...</td>\n",
       "      <td>2021-01-27</td>\n",
       "      <td>53</td>\n",
       "      <td>NaN</td>\n",
       "      <td>0.582913</td>\n",
       "    </tr>\n",
       "    <tr>\n",
       "      <th>...</th>\n",
       "      <td>...</td>\n",
       "      <td>...</td>\n",
       "      <td>...</td>\n",
       "      <td>...</td>\n",
       "      <td>...</td>\n",
       "    </tr>\n",
       "    <tr>\n",
       "      <th>295</th>\n",
       "      <td>Interview with Kaggle Grandmaster Nima Shahbaz...</td>\n",
       "      <td>2020-10-13</td>\n",
       "      <td>1636</td>\n",
       "      <td>NaN</td>\n",
       "      <td>0.454372</td>\n",
       "    </tr>\n",
       "    <tr>\n",
       "      <th>296</th>\n",
       "      <td>Interview with Competitions Grandmaster 詹 金 se...</td>\n",
       "      <td>2020-10-13</td>\n",
       "      <td>920</td>\n",
       "      <td>NaN</td>\n",
       "      <td>0.479247</td>\n",
       "    </tr>\n",
       "    <tr>\n",
       "      <th>297</th>\n",
       "      <td>Más Kaggle Notebooks y Pytorch Lightning</td>\n",
       "      <td>2020-11-04</td>\n",
       "      <td>132</td>\n",
       "      <td>NaN</td>\n",
       "      <td>0.411061</td>\n",
       "    </tr>\n",
       "    <tr>\n",
       "      <th>298</th>\n",
       "      <td>Interview with Competitions Grandmaster Julian...</td>\n",
       "      <td>2020-10-13</td>\n",
       "      <td>1226</td>\n",
       "      <td>NaN</td>\n",
       "      <td>0.454372</td>\n",
       "    </tr>\n",
       "    <tr>\n",
       "      <th>299</th>\n",
       "      <td>Interview with Competitions Grandmaster Dmitry...</td>\n",
       "      <td>2020-10-13</td>\n",
       "      <td>1636</td>\n",
       "      <td>NaN</td>\n",
       "      <td>0.454372</td>\n",
       "    </tr>\n",
       "  </tbody>\n",
       "</table>\n",
       "<p>71 rows × 5 columns</p>\n",
       "</div>"
      ],
      "text/plain": [
       "                                                 title upload_date  \\\n",
       "45   Deep Learning at Scale with Horovod feat. Trav...  2021-01-28   \n",
       "49   Sustainability, Machine Learning, AR/VR and 5G...  2021-01-28   \n",
       "53   How to Deploy Machine Learning Models using Po...  2021-01-28   \n",
       "59   Flutter iOS & Android Object Detection with Te...  2021-01-28   \n",
       "66   Machine Learning for the Environment - Mining ...  2021-01-27   \n",
       "..                                                 ...         ...   \n",
       "295  Interview with Kaggle Grandmaster Nima Shahbaz...  2020-10-13   \n",
       "296  Interview with Competitions Grandmaster 詹 金 se...  2020-10-13   \n",
       "297           Más Kaggle Notebooks y Pytorch Lightning  2020-11-04   \n",
       "298  Interview with Competitions Grandmaster Julian...  2020-10-13   \n",
       "299  Interview with Competitions Grandmaster Dmitry...  2020-10-13   \n",
       "\n",
       "     view_count   y         p  \n",
       "45          149 NaN  0.404861  \n",
       "49            7 NaN  0.481622  \n",
       "53          339 NaN  0.404000  \n",
       "59         1643 NaN  0.409452  \n",
       "66           53 NaN  0.582913  \n",
       "..          ...  ..       ...  \n",
       "295        1636 NaN  0.454372  \n",
       "296         920 NaN  0.479247  \n",
       "297         132 NaN  0.411061  \n",
       "298        1226 NaN  0.454372  \n",
       "299        1636 NaN  0.454372  \n",
       "\n",
       "[71 rows x 5 columns]"
      ]
     },
     "execution_count": 37,
     "metadata": {},
     "output_type": "execute_result"
    }
   ],
   "source": [
    "df_unlabeled[mask_u]"
   ]
  },
  {
   "cell_type": "code",
   "execution_count": 38,
   "metadata": {},
   "outputs": [],
   "source": [
    "hardest = df_unlabeled[mask_u]\n",
    "random = df_unlabeled[~mask_u].sample(31)\n",
    "pd.concat([hardest, random]).to_csv('active_label1.csv')"
   ]
  }
 ],
 "metadata": {
  "kernelspec": {
   "display_name": "Python 3",
   "language": "python",
   "name": "python3"
  },
  "language_info": {
   "codemirror_mode": {
    "name": "ipython",
    "version": 3
   },
   "file_extension": ".py",
   "mimetype": "text/x-python",
   "name": "python",
   "nbconvert_exporter": "python",
   "pygments_lexer": "ipython3",
   "version": "3.8.5"
  }
 },
 "nbformat": 4,
 "nbformat_minor": 4
}
